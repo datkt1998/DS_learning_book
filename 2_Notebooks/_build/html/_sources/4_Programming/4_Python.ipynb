{
 "cells": [
  {
   "cell_type": "markdown",
   "id": "16a013f4-9ba1-4baa-843e-25f0e231a6c1",
   "metadata": {},
   "source": [
    "# Python"
   ]
  },
  {
   "cell_type": "markdown",
   "id": "bbe454b2-3948-48e2-a675-081a645f1cdd",
   "metadata": {},
   "source": [
    "## Variable name"
   ]
  },
  {
   "cell_type": "code",
   "execution_count": null,
   "id": "3a3aefd0-0e47-4d20-9eaa-7be2b5399515",
   "metadata": {},
   "outputs": [],
   "source": [
    "# Variable không được bắng đầu bằng số\n",
    "# ko chứa dấu '-', được chứa dấu'_'\n",
    "# có phân biệt UPCASE\n",
    "# không được sử dụng keyword của python gồm \n",
    "# Dấu \"\\\" ở cuối dòng thể hiện dòng code sẽ nối tiếp dòng phía dưới\n",
    "['and','as','assert','break','class','countinue','def','del',\n",
    " 'elif','else','except','exec','finally','for','from','global',\n",
    " 'if','import','in','is','lambda','not','or','pass','print','raise',\n",
    " 'return','try','while','with','with','yield']"
   ]
  },
  {
   "cell_type": "markdown",
   "id": "3471db5d-4016-4d33-be7e-db4ea1430442",
   "metadata": {},
   "source": [
    "## Python Types "
   ]
  },
  {
   "cell_type": "markdown",
   "id": "d7654a5e-e859-462e-86cc-7273b2a451c4",
   "metadata": {},
   "source": [
    "### Numbers\n",
    "\n",
    "Numbers is `int` and `float`"
   ]
  },
  {
   "cell_type": "code",
   "execution_count": 1,
   "id": "01b21460-9639-43e6-8a7a-f8b9fd454540",
   "metadata": {
    "tags": []
   },
   "outputs": [
    {
     "data": {
      "text/plain": [
       "float"
      ]
     },
     "execution_count": 1,
     "metadata": {},
     "output_type": "execute_result"
    }
   ],
   "source": [
    "type(1)   # int \n",
    "type(-10) # int\n",
    "type(0)   # int\n",
    "type(0.0) # float\n",
    "type(2.2) # float\n",
    "type(4E2) # float - 4*10 to the power of 2"
   ]
  },
  {
   "cell_type": "code",
   "execution_count": null,
   "id": "86c86170-a36a-4aa8-bdd4-201b2dea1aaa",
   "metadata": {},
   "outputs": [],
   "source": [
    "# Arithmetic\n",
    "10 + 3  # 13\n",
    "10 - 3  # 7\n",
    "10 * 3  # 30\n",
    "10 ** 3 # 1000\n",
    "10 / 3  # 3.3333333333333335\n",
    "10 // 3 # 3 --> floor division - no decimals and returns an int\n",
    "10 % 3  # 1 --> modulo operator - return the reminder. Good for deciding if number is even or odd"
   ]
  },
  {
   "cell_type": "code",
   "execution_count": null,
   "id": "a63a4e10-e8ed-4873-a16f-06a194f96bd4",
   "metadata": {},
   "outputs": [],
   "source": [
    "# relationship\n",
    "3<4\n",
    "4>3\n",
    "3<=4\n",
    "4<=3\n",
    "3!=4\n",
    "3==3"
   ]
  },
  {
   "cell_type": "code",
   "execution_count": null,
   "id": "b1bb053e-4e10-4ef3-a462-5d880ce75c9a",
   "metadata": {},
   "outputs": [],
   "source": [
    "# Basic Functions\n",
    "pow(5, 2)      # 25 --> like doing 5**2\n",
    "abs(-50)       # 50\n",
    "round(5.46)    # 5\n",
    "round(5.468, 2)# 5.47 --> round to nth digit\n",
    "bin(512)       # '0b1000000000' -->  binary format\n",
    "hex(512)       # '0x200' --> hexadecimal format"
   ]
  },
  {
   "cell_type": "code",
   "execution_count": null,
   "id": "e1e9f8bb-77a8-4cd3-a210-4b7aea25e3b1",
   "metadata": {},
   "outputs": [],
   "source": [
    "# Converting Strings to Numbers\n",
    "age = input(\"How old are you?\")\n",
    "age = int(age)\n",
    "pi = input(\"What is the value of pi?\")\n",
    "pi = float(pi)"
   ]
  },
  {
   "cell_type": "code",
   "execution_count": 3,
   "id": "df2028be-dbbf-4d39-a687-8517ebabb2ce",
   "metadata": {
    "tags": []
   },
   "outputs": [
    {
     "name": "stdout",
     "output_type": "stream",
     "text": [
      "123.456\n",
      "  123.456\n",
      "00123.456\n",
      "0123.4560\n",
      "123.456\n",
      "123\n"
     ]
    }
   ],
   "source": [
    "# format\n",
    "print('{:3}'.format(123.456))\n",
    "print('{:9}'.format(123.456))\n",
    "print('{:09}'.format(123.456))\n",
    "print('{:09.4f}'.format(123.456))\n",
    "a='{:09.4f}'.format(123.456) #type a = str\n",
    "print(float(a))\n",
    "print(int(float(a)))"
   ]
  },
  {
   "cell_type": "code",
   "execution_count": 2,
   "id": "8dbfc4df-891d-4502-b205-ef8b2deca060",
   "metadata": {
    "tags": []
   },
   "outputs": [
    {
     "name": "stdout",
     "output_type": "stream",
     "text": [
      "<class 'fractions.Fraction'>\n",
      "1/2\n",
      "23/38\n"
     ]
    }
   ],
   "source": [
    "# fraction\n",
    "from fractions import*\n",
    "frac=Fraction(7,14)\n",
    "\n",
    "print(type(frac))\n",
    "\n",
    "frac1=Fraction(2,19)\n",
    "frac2=frac+frac1\n",
    "\n",
    "print(frac)\n",
    "print(frac2)"
   ]
  },
  {
   "cell_type": "markdown",
   "id": "de0e13fd-5285-4035-8076-a254f361aeba",
   "metadata": {},
   "source": [
    "### String"
   ]
  },
  {
   "cell_type": "code",
   "execution_count": null,
   "id": "7250b428-e0b3-4d31-8d47-541b2dabe1b5",
   "metadata": {},
   "outputs": [],
   "source": [
    "type('Hellloooooo') # str\n",
    "\n",
    "'I\\'m thirsty'\n",
    "\"I'm thirsty\"\n",
    "\"\\n\" # new line\n",
    "\"\\t\" # adds a tab\n",
    "\n",
    "'Hey you!'[4] # y\n",
    "name = 'Andrei Neagoie'\n",
    "name[4]     # e\n",
    "name[:]     # Andrei Neagoie\n",
    "name[1:]    # ndrei Neagoie\n",
    "name[:1]    # A\n",
    "name[-1]    # e\n",
    "name[::1]   # Andrei Neagoie\n",
    "name[::-1]  # eiogaeN ierdnA\n",
    "name[0:10:2]# Ade e\n",
    "# : is called slicing and has the format [ start : end : step ]\n",
    "\n",
    "'Hi there ' + 'Timmy' # 'Hi there Timmy' --> This is called string concatenation\n",
    "'*'*10 # **********"
   ]
  },
  {
   "cell_type": "code",
   "execution_count": null,
   "id": "f4b07de0-3f27-48fe-b098-625a00739e78",
   "metadata": {},
   "outputs": [],
   "source": [
    "# Basic Functions\n",
    "len('turtle') # 6\n",
    "\n",
    "# Basic Methods\n",
    "'  I am alone '.strip()               # 'I am alone' --> Strips all whitespace characters from both ends.\n",
    "'On an island'.strip('d')             # 'On an islan' --> # Strips all passed characters from both ends.\n",
    "'but life is good!'.split()           # ['but', 'life', 'is', 'good!']\n",
    "'Help me'.replace('me', 'you')        # 'Help you' --> Replaces first with second param\n",
    "'Need to make fire'.startswith('Need')# True\n",
    "'and cook rice'.endswith('rice')      # True\n",
    "'bye bye'.index('e')                  # 2\n",
    "'still there?'.upper()                # STILL THERE?\n",
    "'HELLO?!'.lower()                     # hello?!\n",
    "'ok, I am done.'.capitalize()         # 'Ok, I am done.'\n",
    "'oh hi there'.find('i')               # 4 --> returns the starting index position of the first occurrence\n",
    "'oh hi there'.count('e')              # 2"
   ]
  },
  {
   "cell_type": "code",
   "execution_count": null,
   "id": "ee2ed175-5406-491c-872c-e50a9341dc2a",
   "metadata": {},
   "outputs": [],
   "source": [
    "# String Formatting\n",
    "name1 = 'Andrei'\n",
    "name2 = 'Sunny'\n",
    "print(f'Hello there {name1} and {name2}')       # Hello there Andrei and Sunny\n",
    "print('Hello there {} and {}'.format(name1, name2)) # Hello there Andrei and Sunny"
   ]
  },
  {
   "cell_type": "markdown",
   "id": "b8a34789-2896-42ed-8785-141f62ef1714",
   "metadata": {},
   "source": [
    "### Boolean\n",
    "`True` or `False`. Used in a lot of comparison and logical operations in Python"
   ]
  },
  {
   "cell_type": "code",
   "execution_count": 5,
   "id": "81fe53ee-b45b-4011-9098-1e6dd25478d5",
   "metadata": {
    "tags": []
   },
   "outputs": [
    {
     "name": "stdout",
     "output_type": "stream",
     "text": [
      "1 False\n",
      "2 False\n",
      "3 False\n",
      "4 False\n",
      "5 False\n",
      "6 False\n",
      "7 False\n",
      "8 False\n",
      "9 False\n",
      "10 False\n"
     ]
    }
   ],
   "source": [
    "bool(True)\n",
    "bool(False)\n",
    "\n",
    "# all of the below evaluate to False. Everything else will evaluate to True in Python.\n",
    "print('1', bool(None))\n",
    "print('2', bool(False))\n",
    "print('3', bool(0))\n",
    "print('4', bool(0.0))\n",
    "print('5', bool([]))\n",
    "print('6', bool({}))\n",
    "print('7', bool(()))\n",
    "print('8', bool(''))\n",
    "print('9', bool(range(0)))\n",
    "print('10', bool(set()))\n",
    "\n",
    "# See Logical Operators and Comparison Operators section for more on booleans."
   ]
  },
  {
   "cell_type": "markdown",
   "id": "accfd8dd-f606-4f8d-952e-bfe8c129e030",
   "metadata": {},
   "source": [
    "### Lists"
   ]
  },
  {
   "cell_type": "code",
   "execution_count": 6,
   "id": "f6446c3b-509c-4512-8f25-f078b0078383",
   "metadata": {
    "tags": []
   },
   "outputs": [
    {
     "data": {
      "text/plain": [
       "[1, '3']"
      ]
     },
     "execution_count": 6,
     "metadata": {},
     "output_type": "execute_result"
    }
   ],
   "source": [
    "my_list = [1, 2, '3', True]# We assume this list won't mutate for each example below\n",
    "len(my_list)               # 4\n",
    "my_list.index('3')         # 2\n",
    "my_list.count(2)           # 1 --> count how many times 2 appears\n",
    "\n",
    "my_list[3]                 # True\n",
    "my_list[1:]                # [2, '3', True]\n",
    "my_list[:1]                # [1]\n",
    "my_list[-1]                # True\n",
    "my_list[::1]               # [1, 2, '3', True]\n",
    "my_list[::-1]              # [True, '3', 2, 1]\n",
    "my_list[0:3:2]             # [1, '3']\n",
    "\n",
    "# : is called slicing and has the format [ start : end : step ]"
   ]
  },
  {
   "cell_type": "code",
   "execution_count": null,
   "id": "a85196d0-0e30-4235-865d-6830c61e7d34",
   "metadata": {},
   "outputs": [],
   "source": [
    "# Add to List\n",
    "my_list * 2                # [1, 2, '3', True, 1, 2, '3', True]\n",
    "my_list + [100]            # [1, 2, '3', True, 100] --> doesn't mutate original list, creates new one\n",
    "my_list.append(100)        # None --> Mutates original list to [1, 2, '3', True, 100]          # Or: <list> += [<el>]\n",
    "my_list.extend([100, 200]) # None --> Mutates original list to [1, 2, '3', True, 100, 200]\n",
    "my_list.insert(2, '!!!')   # None -->  [1, 2, '!!!', '3', True] - Inserts item at index and moves the rest to the right.\n",
    "\n",
    "' '.join(['Hello','There'])# 'Hello There' --> Joins elements using string as separator."
   ]
  },
  {
   "cell_type": "code",
   "execution_count": null,
   "id": "727f99a0-f33b-4b78-822e-41c2c24b4ba2",
   "metadata": {},
   "outputs": [],
   "source": [
    "# Copy a List\n",
    "basket = ['apples', 'pears', 'oranges']\n",
    "new_basket = basket.copy()\n",
    "new_basket2 = basket[:]"
   ]
  },
  {
   "cell_type": "code",
   "execution_count": null,
   "id": "da1918ea-19ba-469d-a086-af8cb353d1f1",
   "metadata": {},
   "outputs": [],
   "source": [
    "# Remove from List\n",
    "[1,2,3].pop()    # 3 --> mutates original list, default index in the pop method is -1 (the last item)\n",
    "[1,2,3].pop(1)   # 2 --> mutates original list\n",
    "[1,2,3].remove(2)# None --> [1,3] Removes first occurrence of item or raises ValueError.\n",
    "[1,2,3].clear()  # None --> mutates original list and removes all items: []\n",
    "del [1,2,3][0] # "
   ]
  },
  {
   "cell_type": "code",
   "execution_count": null,
   "id": "95a177c1-3455-4a52-99ef-3c2627572688",
   "metadata": {},
   "outputs": [],
   "source": [
    "# Ordering\n",
    "[1,2,5,3].sort()         # None --> Mutates list to [1, 2, 3, 5]\n",
    "[1,2,5,3].sort(reverse=True) # None --> Mutates list to [5, 3, 2, 1]\n",
    "[1,2,5,3].reverse()      # None --> Mutates list to [3, 5, 2, 1]\n",
    "newls = sorted([1,2,5,3])          # [1, 2, 3, 5] --> new list created\n",
    "newls = list(reversed([1,2,5,3]))  # [3, 5, 2, 1] --> reversed() returns an iterator"
   ]
  },
  {
   "cell_type": "code",
   "execution_count": null,
   "id": "7932f0a6-1f9f-41fa-be6a-7cbf3e724ef6",
   "metadata": {},
   "outputs": [],
   "source": [
    "# Advanced Ordering\n",
    "\n",
    "sorted_by_second = sorted(['hi','you','man'], key=lambda el: el[1]) # ['man', 'hi', 'you']\n",
    "sorted_by_key = sorted([\n",
    "                       {'name': 'Bina', 'age': 30},\n",
    "                       {'name':'Andy', 'age': 18},\n",
    "                       {'name': 'Zoey', 'age': 55}\n",
    "                        ],\n",
    "                       key=lambda el: (el['name']))# [{'name': 'Andy', 'age': 18}, {'name': 'Bina', 'age': 30}, {'name': 'Zoey', 'age': 55}]"
   ]
  },
  {
   "cell_type": "code",
   "execution_count": null,
   "id": "7585486b-fbf0-4662-8c66-0db8a7b8a43f",
   "metadata": {},
   "outputs": [],
   "source": [
    "# Useful operations\n",
    "1 in [1,2,5,3]  # True\n",
    "min([1,2,3,4,5])# 1\n",
    "max([1,2,3,4,5])# 5\n",
    "sum([1,2,3,4,5])# 15"
   ]
  },
  {
   "cell_type": "code",
   "execution_count": null,
   "id": "c19c66b6-d46d-437e-b47f-5faeaea762bb",
   "metadata": {},
   "outputs": [],
   "source": [
    "# Get First and Last element of a list\n",
    "mList = [63, 21, 30, 14, 35, 26, 77, 18, 49, 10]\n",
    "first, *x, last = mList\n",
    "print(first) #63\n",
    "print(last) #10"
   ]
  },
  {
   "cell_type": "code",
   "execution_count": null,
   "id": "a58a0343-71fd-47b7-9ba1-e7e65fa70384",
   "metadata": {},
   "outputs": [],
   "source": [
    "# List Comprehensions\n",
    "# new_list[<action> for <item> in <iterator> if <some condition>]\n",
    "a = [i for i in 'hello']                  # ['h', 'e', 'l', 'l', '0']\n",
    "b = [i*2 for i in [1,2,3]]                # [2, 4, 6]\n",
    "c = [i for i in range(0,10) if i % 2 == 0]# [0, 2, 4, 6, 8]"
   ]
  },
  {
   "cell_type": "code",
   "execution_count": null,
   "id": "720a18ea-93b8-4c86-9731-3f055f8b0155",
   "metadata": {},
   "outputs": [],
   "source": [
    "# Advanced Functions\n",
    "list_of_chars = list('Helloooo')                                   # ['H', 'e', 'l', 'l', 'o', 'o', 'o', 'o']\n",
    "sum_of_elements = sum([1,2,3,4,5])                                 # 15\n",
    "element_sum = [sum(pair) for pair in zip([1,2,3],[4,5,6])]         # [5, 7, 9]"
   ]
  },
  {
   "cell_type": "code",
   "execution_count": null,
   "id": "6625c0e9-4133-4f9c-94c0-b7b5c9468268",
   "metadata": {},
   "outputs": [],
   "source": [
    "# Read line of a file into a list\n",
    "with open(\"myfile.txt\") as f:\n",
    "    lines = [line.strip() for line in f]"
   ]
  },
  {
   "cell_type": "markdown",
   "id": "dfa9a1a3-4cbb-48e2-9642-da9494dd9c0b",
   "metadata": {},
   "source": [
    "### Dictionaries"
   ]
  },
  {
   "cell_type": "code",
   "execution_count": null,
   "id": "21bf85c0-ff0f-4ad3-a517-ec0120227405",
   "metadata": {},
   "outputs": [],
   "source": [
    "my_dict = {'name': 'Andrei Neagoie', 'age': 30, 'magic_power': False}\n",
    "my_dict['name']                      # Andrei Neagoie\n",
    "len(my_dict)                         # 3\n",
    "list(my_dict.keys())                 # ['name', 'age', 'magic_power']\n",
    "list(my_dict.values())               # ['Andrei Neagoie', 30, False]\n",
    "list(my_dict.items())                # [('name', 'Andrei Neagoie'), ('age', 30), ('magic_power', False)]\n",
    "my_dict['favourite_snack'] = 'Grapes'# {'name': 'Andrei Neagoie', 'age': 30, 'magic_power': False, 'favourite_snack': 'Grapes'}\n",
    "my_dict.get('age')                   # 30 --> Returns None if key does not exist.\n",
    "my_dict.get('ages', 0 )              # 0 --> Returns default (2nd param) if key is not found"
   ]
  },
  {
   "cell_type": "code",
   "execution_count": null,
   "id": "0ab8e21b-bae7-4930-8161-3b02776fedfb",
   "metadata": {},
   "outputs": [],
   "source": [
    "#Remove key\n",
    "del my_dict['name']\n",
    "my_dict.pop('age')\n",
    "new_dict = my_dict.pop('name', None)"
   ]
  },
  {
   "cell_type": "code",
   "execution_count": null,
   "id": "52827d41-cefb-444a-9706-209d175ac1aa",
   "metadata": {},
   "outputs": [],
   "source": [
    "# update\n",
    "my_dict.update({'cool': True})                                         # {'name': 'Andrei Neagoie', 'age': 30, 'magic_power': False, 'favourite_snack': 'Grapes', 'cool': True}\n",
    "{**my_dict, **{'cool': True} }                                         # {'name': 'Andrei Neagoie', 'age': 30, 'magic_power': False, 'favourite_snack': 'Grapes', 'cool': True}"
   ]
  },
  {
   "cell_type": "code",
   "execution_count": null,
   "id": "90ebc470-6451-486a-90e3-8426e979ec70",
   "metadata": {},
   "outputs": [],
   "source": [
    "# create dict\n",
    "new_dict = dict([['name','Andrei'],['age',32],['magic_power',False]])  # Creates a dict from collection of key-value pairs.\n",
    "new_dict = dict(zip(['name','age','magic_power'],['Andrei',32, False]))# Creates a dict from two collections."
   ]
  },
  {
   "cell_type": "code",
   "execution_count": null,
   "id": "16537aa2-4e6d-4607-8ed5-f20939e35c51",
   "metadata": {},
   "outputs": [],
   "source": [
    "# Dictionary Comprehension\n",
    "{key: value for key, value in new_dict.items() if key == 'age' or key == 'name'} # {'name': 'Andrei', 'age': 32} --> Filter dict by keys"
   ]
  },
  {
   "cell_type": "markdown",
   "id": "54efd9ab-e716-4dc1-bb20-17ea4be6711c",
   "metadata": {},
   "source": [
    "### Tuples\n",
    "Like lists, but they are used for immutable things (that don't change)"
   ]
  },
  {
   "cell_type": "code",
   "execution_count": null,
   "id": "50f5ffa0-9d52-445b-baeb-b17d02b3a1cc",
   "metadata": {},
   "outputs": [],
   "source": [
    "my_tuple = ('apple','grapes','mango', 'grapes')\n",
    "apple, grapes, mango, grapes = my_tuple# Tuple unpacking\n",
    "len(my_tuple)                          # 4\n",
    "my_tuple[2]                            # mango\n",
    "my_tuple[-1]                           # 'grapes'"
   ]
  },
  {
   "cell_type": "code",
   "execution_count": null,
   "id": "22fa57f0-daf8-4bf9-8ec2-08d5395f92d3",
   "metadata": {},
   "outputs": [],
   "source": [
    "# Immutability\n",
    "my_tuple[1] = 'donuts'  # TypeError\n",
    "my_tuple.append('candy')# AttributeError"
   ]
  },
  {
   "cell_type": "code",
   "execution_count": null,
   "id": "1c263340-5e9c-4828-a973-ab13d426fb53",
   "metadata": {},
   "outputs": [],
   "source": [
    "# Methods\n",
    "my_tuple.index('grapes') # 1\n",
    "my_tuple.count('grapes') # 2"
   ]
  },
  {
   "cell_type": "code",
   "execution_count": null,
   "id": "bc5b6d19-2765-44e6-80fc-a2efcf56294d",
   "metadata": {},
   "outputs": [],
   "source": [
    "# Zip\n",
    "list(zip([1,2,3], [4,5,6])) # [(1, 4), (2, 5), (3, 6)]\n",
    "\n",
    "# unzip\n",
    "z = [(1, 2), (3, 4), (5, 6), (7, 8)] # Some output of zip() function\n",
    "unzip = lambda z: list(zip(*z))\n",
    "unzip(z)"
   ]
  },
  {
   "cell_type": "markdown",
   "id": "58cba890-abcb-47d6-b4b7-09d895d618fa",
   "metadata": {},
   "source": [
    "### Sets\n",
    "\n",
    "Unordered collection of unique elements."
   ]
  },
  {
   "cell_type": "code",
   "execution_count": null,
   "id": "338e4d08-0119-469a-a432-1cfd5a0edded",
   "metadata": {},
   "outputs": [],
   "source": [
    "my_set = set()\n",
    "my_set.add(1)  # {1}\n",
    "my_set.add(100)# {1, 100}\n",
    "my_set.add(100)# {1, 100} --> no duplicates!"
   ]
  },
  {
   "cell_type": "code",
   "execution_count": null,
   "id": "eaac9ea1-bbba-4485-bbcd-0f2a966fd912",
   "metadata": {},
   "outputs": [],
   "source": [
    "new_list = [1,2,3,3,3,4,4,5,6,1]\n",
    "set(new_list)           # {1, 2, 3, 4, 5, 6}\n",
    "\n",
    "my_set.remove(100)      # {1} --> Raises KeyError if element not found\n",
    "my_set.discard(100)     # {1} --> Doesn't raise an error if element not found\n",
    "my_set.clear()          # {}\n",
    "new_set = {1,2,3}.copy()# {1,2,3}"
   ]
  },
  {
   "cell_type": "code",
   "execution_count": null,
   "id": "d6a688af-c687-42d2-b0de-8bdd8e74308d",
   "metadata": {},
   "outputs": [],
   "source": [
    "set1 = {1,2,3}\n",
    "set2 = {3,4,5}\n",
    "set3 = set1.union(set2)               # {1,2,3,4,5}\n",
    "set4 = set1.intersection(set2)        # {3}\n",
    "set5 = set1.difference(set2)          # {1, 2}\n",
    "set6 = set1.symmetric_difference(set2)# {1, 2, 4, 5}\n",
    "set1.issubset(set2)                   # False\n",
    "set1.issuperset(set2)                 # False\n",
    "set1.isdisjoint(set2)                 # False --> return True if two sets have a null intersection."
   ]
  },
  {
   "cell_type": "code",
   "execution_count": null,
   "id": "b4cd0946-9db4-48f2-a463-1613ceb2d4ea",
   "metadata": {},
   "outputs": [],
   "source": [
    "# Frozenset\n",
    "# hashable --> it can be used as a key in a dictionary or as an element in a set.\n",
    "<frozenset> = frozenset(<collection>)"
   ]
  },
  {
   "cell_type": "markdown",
   "id": "6e908cb4-6dd9-4f84-a788-49b1fc6370b8",
   "metadata": {},
   "source": [
    "## Functions"
   ]
  },
  {
   "cell_type": "markdown",
   "id": "7182cdb9-801d-4be7-8a78-3eba184285d8",
   "metadata": {},
   "source": [
    "### def"
   ]
  },
  {
   "cell_type": "markdown",
   "id": "a655084e-3690-443d-b3ea-4b02b54c9efa",
   "metadata": {},
   "source": [
    "`*args` and `**kwargs`"
   ]
  },
  {
   "cell_type": "code",
   "execution_count": null,
   "id": "f4d9a42f-810e-4b2d-b400-bb74646d0a34",
   "metadata": {},
   "outputs": [],
   "source": [
    "args   = (1, 2)\n",
    "kwargs = {'x': 3, 'y': 4, 'z': 5}\n",
    "some_func(*args, **kwargs) # same as some_func(1, 2, x=3, y=4, z=5)"
   ]
  },
  {
   "cell_type": "code",
   "execution_count": null,
   "id": "479e0e24-4899-45d2-8766-697ed270279d",
   "metadata": {},
   "outputs": [],
   "source": [
    "def f(*args):                  # f(1, 2, 3)\n",
    "def f(x, *args):               # f(1, 2, 3)\n",
    "def f(*args, z):               # f(1, 2, z=3)\n",
    "def f(x, *args, z):            # f(1, 2, z=3)\n",
    "\n",
    "def f(**kwargs):               # f(x=1, y=2, z=3)\n",
    "def f(x, **kwargs):            # f(x=1, y=2, z=3) | f(1, y=2, z=3)\n",
    "\n",
    "def f(*args, **kwargs):        # f(x=1, y=2, z=3) | f(1, y=2, z=3) | f(1, 2, z=3) | f(1, 2, 3)\n",
    "def f(x, *args, **kwargs):     # f(x=1, y=2, z=3) | f(1, y=2, z=3) | f(1, 2, z=3) | f(1, 2, 3)\n",
    "def f(*args, y, **kwargs):     # f(x=1, y=2, z=3) | f(1, y=2, z=3)\n",
    "def f(x, *args, z, **kwargs):  # f(x=1, y=2, z=3) | f(1, y=2, z=3) | f(1, 2, z=3)"
   ]
  },
  {
   "cell_type": "code",
   "execution_count": null,
   "id": "2e37413d-3605-45e4-830a-9acb93fbce03",
   "metadata": {},
   "outputs": [],
   "source": [
    "def add(*a):\n",
    "    return sum(a)\n",
    "\n",
    "add(1, 2, 3) # 6"
   ]
  },
  {
   "cell_type": "markdown",
   "id": "f1d02fb0-67b3-4e28-b8ae-9a8247a685c3",
   "metadata": {},
   "source": [
    "Other Uses of `*`"
   ]
  },
  {
   "cell_type": "code",
   "execution_count": null,
   "id": "877bf4ca-4957-4618-97ca-432028035941",
   "metadata": {},
   "outputs": [],
   "source": [
    "[*[1,2,3], *[4]]                # [1, 2, 3, 4]\n",
    "{*[1,2,3], *[4]}                # {1, 2, 3, 4}\n",
    "(*[1,2,3], *[4])                # (1, 2, 3, 4)\n",
    "{**{'a': 1, 'b': 2}, **{'c': 3}}# {'a': 1, 'b': 2, 'c': 3}"
   ]
  },
  {
   "cell_type": "markdown",
   "id": "564a56bb-6de0-4580-8d0f-8e1a254d9953",
   "metadata": {},
   "source": [
    "### lambda"
   ]
  },
  {
   "cell_type": "code",
   "execution_count": null,
   "id": "1f8d8d96-7247-4474-a7fb-2a1e3ed5c155",
   "metadata": {},
   "outputs": [],
   "source": [
    "# lambda: <return_value>\n",
    "# lambda <argument1>, <argument2>: <return_value>"
   ]
  },
  {
   "cell_type": "code",
   "execution_count": null,
   "id": "25bc79e1-2173-4c3d-8ce3-921caa06a726",
   "metadata": {},
   "outputs": [],
   "source": [
    "# Factorial\n",
    "from functools import reduce\n",
    "n = 3\n",
    "factorial = reduce(lambda x, y: x*y, range(1, n+1))\n",
    "print(factorial) #6"
   ]
  },
  {
   "cell_type": "code",
   "execution_count": null,
   "id": "60ffec07-4328-49b9-b540-69c71e761437",
   "metadata": {},
   "outputs": [],
   "source": [
    "# Fibonacci\n",
    "fib = lambda n : n if n <= 1 else fib(n-1) + fib(n-2)\n",
    "result = fib(10)\n",
    "print(result) #55"
   ]
  },
  {
   "cell_type": "markdown",
   "id": "7a99505a-7a5c-4e42-be65-e17dddfdff1d",
   "metadata": {},
   "source": [
    "## Advanced Python"
   ]
  },
  {
   "cell_type": "markdown",
   "id": "0abeb625-22a9-49ca-ad0c-9e9e4e1a704e",
   "metadata": {},
   "source": [
    "### Comprehensions"
   ]
  },
  {
   "cell_type": "code",
   "execution_count": null,
   "id": "167a1699-3389-4da8-9004-46cbc9a8bafe",
   "metadata": {},
   "outputs": [],
   "source": [
    "<list> = [i+1 for i in range(10)]         # [1, 2, ..., 10]\n",
    "<set>  = {i for i in range(10) if i > 5}  # {6, 7, 8, 9}\n",
    "<iter> = (i+5 for i in range(10))         # (5, 6, ..., 14)\n",
    "<dict> = {i: i*2 for i in range(10)}      # {0: 0, 1: 2, ..., 9: 18}"
   ]
  },
  {
   "cell_type": "code",
   "execution_count": 7,
   "id": "9e90a940-67ba-47d5-9e6e-4ab80e975e9b",
   "metadata": {
    "tags": []
   },
   "outputs": [
    {
     "data": {
      "text/plain": [
       "['zero', 1, 'zero', 3]"
      ]
     },
     "execution_count": 7,
     "metadata": {},
     "output_type": "execute_result"
    }
   ],
   "source": [
    "[a if a else 'zero' for a in [0, 1, 0, 3]] # ['zero', 1, 'zero', 3]"
   ]
  },
  {
   "cell_type": "code",
   "execution_count": null,
   "id": "3a5c8cee-41a8-45d5-9bbf-e69d469dcfa6",
   "metadata": {},
   "outputs": [],
   "source": [
    "output = [i+j for i in range(3) for j in range(3)] # [0, 1, 2, 1, 2, 3, 2, 3, 4]\n",
    "\n",
    "# Is the same as:\n",
    "output = []\n",
    "for i in range(3):\n",
    "    for j in range(3):\n",
    "        output.append(i+j)"
   ]
  },
  {
   "cell_type": "markdown",
   "id": "ce841a63-e6a2-4019-a9bf-a7679a1861ec",
   "metadata": {},
   "source": [
    "### Map Filter Reduce"
   ]
  },
  {
   "cell_type": "code",
   "execution_count": null,
   "id": "a23b1699-1c80-434e-bc24-a62133854d00",
   "metadata": {},
   "outputs": [],
   "source": [
    "from functools import reduce\n",
    "list(map(lambda x: x + 1, range(10)))            # [1, 2, 3, 4, 5, 6, 7, 8, 9,10]\n",
    "list(filter(lambda x: x > 5, range(10)))         # (6, 7, 8, 9)\n",
    "reduce(lambda acc, x: acc + x, range(10))        # 45"
   ]
  },
  {
   "cell_type": "markdown",
   "id": "6fd0f5ba-46c2-4bf7-960b-2bca3a176b87",
   "metadata": {},
   "source": [
    "### Any All"
   ]
  },
  {
   "cell_type": "code",
   "execution_count": null,
   "id": "ff6a53e7-0b8b-4c53-afaf-e396adce4d26",
   "metadata": {},
   "outputs": [],
   "source": [
    "any([False, True, False])# True if at least one item in collection is truthy, False if empty.\n",
    "all([True,1,3,True])     # True if all items in collection are true"
   ]
  },
  {
   "cell_type": "markdown",
   "id": "ae12b828-c35f-4e87-a14d-ffa0d28b969d",
   "metadata": {},
   "source": [
    "### Generators"
   ]
  },
  {
   "cell_type": "code",
   "execution_count": null,
   "id": "2bbb15eb-a496-4ed4-9222-e9d544f55de7",
   "metadata": {},
   "outputs": [],
   "source": [
    "def count(start, step):\n",
    "    while True:\n",
    "        yield start\n",
    "        start += step"
   ]
  },
  {
   "cell_type": "markdown",
   "id": "d35f150a-dfc4-4264-8bee-455f9ff6e5b4",
   "metadata": {},
   "source": [
    "### Decorators"
   ]
  },
  {
   "cell_type": "code",
   "execution_count": null,
   "id": "357ec8c1-f536-43fb-bc1a-8668081ddefc",
   "metadata": {},
   "outputs": [],
   "source": [
    "from functools import wraps\n",
    "\n",
    "def debug(func):\n",
    "    @wraps(func)\n",
    "    def out(*args, **kwargs):\n",
    "        print(func.__name__)\n",
    "        return func(*args, **kwargs)\n",
    "    return out\n",
    "\n",
    "@debug\n",
    "def add(x, y):\n",
    "    return x + y"
   ]
  },
  {
   "cell_type": "markdown",
   "id": "bac75a25-f318-4279-bce4-2945b0deeff2",
   "metadata": {},
   "source": [
    "### Class"
   ]
  },
  {
   "cell_type": "code",
   "execution_count": null,
   "id": "4add19a4-b2c4-4b70-83e5-2a67f2f90323",
   "metadata": {},
   "outputs": [],
   "source": [
    "class <name>:\n",
    "    age = 80 # Class Object Attribute\n",
    "    def __init__(self, a):\n",
    "        self.a = a # Object Attribute\n",
    "\n",
    "    @classmethod\n",
    "    def get_class_name(cls):\n",
    "        return cls.__name__"
   ]
  },
  {
   "cell_type": "markdown",
   "id": "060ceaad-bbf1-427a-9bda-a5b27709b3c4",
   "metadata": {},
   "source": [
    "### Exceptions"
   ]
  },
  {
   "cell_type": "code",
   "execution_count": null,
   "id": "a269fc44-e55f-4973-888c-262a6827027c",
   "metadata": {},
   "outputs": [],
   "source": [
    "try:\n",
    "    5/0\n",
    "except ZeroDivisionError:\n",
    "    print(\"No division by zero!\")"
   ]
  },
  {
   "cell_type": "code",
   "execution_count": null,
   "id": "151b2bc9-5c11-4756-8e83-8dbbb91e7469",
   "metadata": {},
   "outputs": [],
   "source": [
    "while True:\n",
    "    try:\n",
    "        x = int(input('Enter your age: '))\n",
    "    except ValueError:\n",
    "        print('Oops!  That was no valid number.  Try again...')\n",
    "    else: # code that depends on the try block running successfully should be placed in the else block.\n",
    "        print('Carry on!')\n",
    "        break"
   ]
  },
  {
   "cell_type": "markdown",
   "id": "de95a240-e013-4781-bb10-75a08f77516c",
   "metadata": {},
   "source": [
    "### File IO\n",
    "\n",
    "- 'r' - Read (default).\n",
    "- 'w' - Write (truncate).\n",
    "- 'x' - Write or fail if the file already exists.\n",
    "- 'a' - Append.\n",
    "- 'w+' - Read and write (truncate).\n",
    "- 'r+' - Read and write from the start.\n",
    "- 'a+' - Read and write from the end.\n",
    "- 't' - Text mode (default).\n",
    "- 'b' - Binary mode."
   ]
  },
  {
   "cell_type": "markdown",
   "id": "70e65091-1fae-4558-be3a-7dbc46154296",
   "metadata": {},
   "source": [
    "### Regex"
   ]
  },
  {
   "cell_type": "code",
   "execution_count": null,
   "id": "4bd407f4-ec1d-4bfd-9a16-918deabd1a90",
   "metadata": {},
   "outputs": [],
   "source": [
    "import re\n",
    "<str>   = re.sub(<regex>, new, text, count=0)  # Substitutes all occurrences.\n",
    "<list>  = re.findall(<regex>, text)            # Returns all occurrences.\n",
    "<list>  = re.split(<regex>, text, maxsplit=0)  # Use brackets in regex to keep the matches.\n",
    "<Match> = re.search(<regex>, text)             # Searches for first occurrence of pattern.\n",
    "<Match> = re.match(<regex>, text)              # Searches only at the beginning of the text."
   ]
  }
 ],
 "metadata": {
  "kernelspec": {
   "display_name": "Python 3 (ipykernel)",
   "language": "python",
   "name": "python3"
  },
  "language_info": {
   "codemirror_mode": {
    "name": "ipython",
    "version": 3
   },
   "file_extension": ".py",
   "mimetype": "text/x-python",
   "name": "python",
   "nbconvert_exporter": "python",
   "pygments_lexer": "ipython3",
   "version": "3.10.6"
  },
  "toc-autonumbering": true
 },
 "nbformat": 4,
 "nbformat_minor": 5
}
