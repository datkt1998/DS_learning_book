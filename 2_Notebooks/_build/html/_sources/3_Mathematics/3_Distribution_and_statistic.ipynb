{
 "cells": [
  {
   "cell_type": "markdown",
   "id": "cecad078-52ba-403a-910f-bdde33eb89a1",
   "metadata": {},
   "source": [
    "# Distribution and statistics"
   ]
  },
  {
   "cell_type": "code",
   "execution_count": null,
   "id": "32b65c41-3c6e-46c2-9d4b-2a2d9fa2be0a",
   "metadata": {},
   "outputs": [],
   "source": []
  }
 ],
 "metadata": {
  "kernelspec": {
   "display_name": "Python 3 (ipykernel)",
   "language": "python",
   "name": "python3"
  },
  "language_info": {
   "codemirror_mode": {
    "name": "ipython",
    "version": 3
   },
   "file_extension": ".py",
   "mimetype": "text/x-python",
   "name": "python",
   "nbconvert_exporter": "python",
   "pygments_lexer": "ipython3",
   "version": "3.10.6"
  }
 },
 "nbformat": 4,
 "nbformat_minor": 5
}
