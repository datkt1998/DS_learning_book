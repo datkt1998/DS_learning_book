{
 "cells": [
  {
   "cell_type": "markdown",
   "id": "6ea6c4bf-5fd3-4ad6-85e1-ed0a516f8e37",
   "metadata": {},
   "source": [
    "# Calculus and optimization"
   ]
  },
  {
   "cell_type": "code",
   "execution_count": null,
   "id": "4df15b5d-af4f-477f-af68-93997a45a490",
   "metadata": {},
   "outputs": [],
   "source": []
  }
 ],
 "metadata": {
  "kernelspec": {
   "display_name": "Python 3 (ipykernel)",
   "language": "python",
   "name": "python3"
  },
  "language_info": {
   "codemirror_mode": {
    "name": "ipython",
    "version": 3
   },
   "file_extension": ".py",
   "mimetype": "text/x-python",
   "name": "python",
   "nbconvert_exporter": "python",
   "pygments_lexer": "ipython3",
   "version": "3.10.6"
  }
 },
 "nbformat": 4,
 "nbformat_minor": 5
}