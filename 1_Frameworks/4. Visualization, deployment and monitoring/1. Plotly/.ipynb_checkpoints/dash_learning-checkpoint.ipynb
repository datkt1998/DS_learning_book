{
 "cells": [
  {
   "cell_type": "code",
   "execution_count": 1,
   "id": "ea50baa5",
   "metadata": {},
   "outputs": [],
   "source": [
    "# run dash in jupyter\n",
    "from jupyter_dash import JupyterDash # thay cho: from dash import Dash\n",
    "from dash import Dash, html, dcc, Input, Output\n",
    "import pandas as pd\n",
    "import plotly.express as px"
   ]
  },
  {
   "cell_type": "markdown",
   "id": "4c84bc76-ed51-4f0d-8e82-a7161f3fc22b",
   "metadata": {},
   "source": [
    "## Basis"
   ]
  },
  {
   "cell_type": "code",
   "execution_count": 2,
   "id": "98e7d212-bc11-4e4c-8147-f42f46fbcc32",
   "metadata": {},
   "outputs": [
    {
     "data": {
      "text/html": [
       "\n",
       "        <iframe\n",
       "            width=\"100%\"\n",
       "            height=\"650\"\n",
       "            src=\"http://localhost:8050/\"\n",
       "            frameborder=\"0\"\n",
       "            allowfullscreen\n",
       "            \n",
       "        ></iframe>\n",
       "        "
      ],
      "text/plain": [
       "<IPython.lib.display.IFrame at 0x7fece450eeb0>"
      ]
     },
     "metadata": {},
     "output_type": "display_data"
    }
   ],
   "source": [
    "# data\n",
    "happiness = pd.read_csv('data/13 - worldhappiness.csv')\n",
    "line_fg = px.line(                                                  # add line plot\n",
    "    happiness[happiness['country'] == 'United States'],\n",
    "    x = 'year',\n",
    "    y = 'happiness_score',\n",
    "    title='Happiness Score in United States'\n",
    ")\n",
    "\n",
    "\n",
    "# html Component:\n",
    "#     section headings {H1, H2, ...}\n",
    "#     paragraph {p} (text noi dung), \n",
    "#     content division {Div} ( vung chua noi dung), \n",
    "#     line-break {br}, \n",
    "#     anchor{a} ( gan hyperlink), \n",
    "#     html tags \n",
    "\n",
    "# app = Dash()\n",
    "app = JupyterDash()\n",
    "\n",
    "app.layout = html.Div(children=[\n",
    "    html.H1('The Sample Dashboard'),                                # header 1\n",
    "    html.Div(                                                       # add subdiv\n",
    "        children='123',                                                 # component of subdiv\n",
    "        id='output-text'                                                # set id for component\n",
    "        ),\n",
    "                       \n",
    "    html.P([                                                        # paragraph\n",
    "        'This is the sample dashboard display the scores',              # text\n",
    "        html.Br(),                                                      # line break\n",
    "        html.A(                                                         # hyperlink\n",
    "            'World happiness Report Data Source',                           # display\n",
    "            href='http://www.worldhappiness.report',                        # link\n",
    "            target= '_blank'                                                # open new tab when clicked link\n",
    "            ),\n",
    "\n",
    "    dcc.RadioItems(                                                 # select ONE item in current\n",
    "        options = happiness['region'].unique() ,                        # list/dict of option values can be choose\n",
    "        value= 'North America'                                          # first item selected when open\n",
    "        ),\n",
    "    dcc.Checklist(                                                 # select MULTI-items in current\n",
    "        options = happiness['region'].unique() ,                        # list/dict of option values can be choose\n",
    "        value= ['North America']                                        # first items selected when open\n",
    "        ),\n",
    "    dcc.Dropdown(                                                  # select from dropdown list items   \n",
    "        options = happiness['country'].unique() ,                       # list/dict of option values can be choose\n",
    "        value= ['United States']                                        \n",
    "        ),\n",
    "        \n",
    "    html.Br(),                                                      # line break\n",
    "    dcc.Input(                                                     # add Input box component\n",
    "        value='Texttttt', \n",
    "        type='text'\n",
    "        ),\n",
    "        \n",
    "    dcc.Graph(                                                      # add graph component \n",
    "        figure =  line_fg                                          \n",
    "        ),\n",
    "    ])\n",
    "])\n",
    "\n",
    "app.run_server(mode='inline', host='localhost',port=8050, debug = True) # set debug = True cho refresh server with update code"
   ]
  },
  {
   "cell_type": "markdown",
   "id": "bcc6309e-9337-4fd7-973d-824275259519",
   "metadata": {},
   "source": [
    "## Callback\n",
    " refresh dashboard after change component"
   ]
  },
  {
   "cell_type": "code",
   "execution_count": 3,
   "id": "0063c39d-a94b-4d06-829f-49dc4dfb2d07",
   "metadata": {},
   "outputs": [
    {
     "data": {
      "text/html": [
       "\n",
       "        <iframe\n",
       "            width=\"100%\"\n",
       "            height=\"650\"\n",
       "            src=\"http://localhost:8050/\"\n",
       "            frameborder=\"0\"\n",
       "            allowfullscreen\n",
       "            \n",
       "        ></iframe>\n",
       "        "
      ],
      "text/plain": [
       "<IPython.lib.display.IFrame at 0x7fecb00179d0>"
      ]
     },
     "metadata": {},
     "output_type": "display_data"
    }
   ],
   "source": [
    "# callback single input/output with id\n",
    "\n",
    "from dash import Dash, html, dcc, Input, Output\n",
    "\n",
    "app = JupyterDash()\n",
    "\n",
    "app.layout = html.Div([\n",
    "    dcc.Input(id='input-text', value='Change this text', type='text'),\n",
    "    html.Div(children='123', id='output-text')\n",
    "                       ])\n",
    "\n",
    "# Output must be before Input\n",
    "@app.callback(\n",
    "    Output(\n",
    "        component_id='output-text',  # id of component\n",
    "        component_property='children' # chỉ định tham số thay đổi value của component\n",
    "        ),\n",
    "    Input(\n",
    "        component_id='input-text', \n",
    "        component_property='value'\n",
    "        )\n",
    "    )\n",
    "def update_output_div(input_text):\n",
    "    return f'Text: {input_text}'\n",
    "\n",
    "app.run_server(mode='inline', host='localhost',port=8050, debug = True)"
   ]
  },
  {
   "cell_type": "code",
   "execution_count": 4,
   "id": "45bf952e-d4b9-4ff4-9964-402b2861c021",
   "metadata": {},
   "outputs": [
    {
     "data": {
      "text/html": [
       "\n",
       "        <iframe\n",
       "            width=\"100%\"\n",
       "            height=\"650\"\n",
       "            src=\"http://127.0.0.1:8050/\"\n",
       "            frameborder=\"0\"\n",
       "            allowfullscreen\n",
       "            \n",
       "        ></iframe>\n",
       "        "
      ],
      "text/plain": [
       "<IPython.lib.display.IFrame at 0x7fecb0017d00>"
      ]
     },
     "metadata": {},
     "output_type": "display_data"
    },
    {
     "name": "stderr",
     "output_type": "stream",
     "text": [
      "Exception in thread Thread-19:\n",
      "Traceback (most recent call last):\n",
      "  File \"/Users/khongdat/opt/anaconda3/lib/python3.9/threading.py\", line 980, in _bootstrap_inner\n",
      "    self.run()\n",
      "  File \"/Users/khongdat/opt/anaconda3/lib/python3.9/threading.py\", line 917, in run\n",
      "    self._target(*self._args, **self._kwargs)\n",
      "  File \"/Users/khongdat/opt/anaconda3/lib/python3.9/site-packages/retrying.py\", line 49, in wrapped_f\n",
      "    return Retrying(*dargs, **dkw).call(f, *args, **kw)\n",
      "  File \"/Users/khongdat/opt/anaconda3/lib/python3.9/site-packages/retrying.py\", line 212, in call\n",
      "    raise attempt.get()\n",
      "  File \"/Users/khongdat/opt/anaconda3/lib/python3.9/site-packages/retrying.py\", line 247, in get\n",
      "    six.reraise(self.value[0], self.value[1], self.value[2])\n",
      "  File \"/Users/khongdat/opt/anaconda3/lib/python3.9/site-packages/six.py\", line 719, in reraise\n",
      "    raise value\n",
      "  File \"/Users/khongdat/opt/anaconda3/lib/python3.9/site-packages/retrying.py\", line 200, in call\n",
      "    attempt = Attempt(fn(*args, **kwargs), attempt_number, False)\n",
      "  File \"/Users/khongdat/opt/anaconda3/lib/python3.9/site-packages/jupyter_dash/jupyter_app.py\", line 305, in run\n",
      "    super_run_server(**kwargs)\n",
      "  File \"/Users/khongdat/opt/anaconda3/lib/python3.9/site-packages/dash/dash.py\", line 2128, in run_server\n",
      "    self.run(*args, **kwargs)\n",
      "  File \"/Users/khongdat/opt/anaconda3/lib/python3.9/site-packages/dash/dash.py\", line 1961, in run\n",
      "    self.server.run(host=host, port=port, debug=debug, **flask_run_options)\n",
      "  File \"/Users/khongdat/opt/anaconda3/lib/python3.9/site-packages/flask/app.py\", line 914, in run\n",
      "    run_simple(t.cast(str, host), port, self, **options)\n",
      "  File \"/Users/khongdat/opt/anaconda3/lib/python3.9/site-packages/werkzeug/serving.py\", line 1017, in run_simple\n",
      "    inner()\n",
      "  File \"/Users/khongdat/opt/anaconda3/lib/python3.9/site-packages/werkzeug/serving.py\", line 957, in inner\n",
      "    srv = make_server(\n",
      "  File \"/Users/khongdat/opt/anaconda3/lib/python3.9/site-packages/werkzeug/serving.py\", line 789, in make_server\n",
      "    return ThreadedWSGIServer(\n",
      "  File \"/Users/khongdat/opt/anaconda3/lib/python3.9/site-packages/werkzeug/serving.py\", line 693, in __init__\n",
      "    super().__init__(server_address, handler)  # type: ignore\n",
      "  File \"/Users/khongdat/opt/anaconda3/lib/python3.9/socketserver.py\", line 452, in __init__\n",
      "    self.server_bind()\n",
      "  File \"/Users/khongdat/opt/anaconda3/lib/python3.9/http/server.py\", line 136, in server_bind\n",
      "    socketserver.TCPServer.server_bind(self)\n",
      "  File \"/Users/khongdat/opt/anaconda3/lib/python3.9/socketserver.py\", line 466, in server_bind\n",
      "    self.socket.bind(self.server_address)\n",
      "OSError: [Errno 48] Address already in use\n"
     ]
    }
   ],
   "source": [
    "# callback single input/output without id setting\n",
    "\n",
    "app = JupyterDash()\n",
    "\n",
    "input_text = dcc.Input(value='Input the description', type='text')\n",
    "output_text = html.Div(children='123', id='output-text')\n",
    "\n",
    "app.layout = html.Div([input_text, output_text])\n",
    "\n",
    "@app.callback(\n",
    "    Output(component_id=output_text, component_property='children'),\n",
    "    Input(component_id=input_text, component_property='value')\n",
    ")\n",
    "def update_output_div(input_text):\n",
    "    return f'Text: {input_text}'\n",
    "\n",
    "app.run_server(mode = 'inline', debug = True)"
   ]
  },
  {
   "cell_type": "code",
   "execution_count": null,
   "id": "2774db3d-3f5b-45db-8554-b524e9f054e4",
   "metadata": {},
   "outputs": [
    {
     "name": "stdout",
     "output_type": "stream",
     "text": [
      "Dash app running on http://127.0.0.1:8050/\n"
     ]
    }
   ],
   "source": [
    "# app.run_server('external')\n",
    "# app.run_server(mode = 'inline')"
   ]
  }
 ],
 "metadata": {
  "kernelspec": {
   "display_name": "Python 3 (ipykernel)",
   "language": "python",
   "name": "python3"
  },
  "language_info": {
   "codemirror_mode": {
    "name": "ipython",
    "version": 3
   },
   "file_extension": ".py",
   "mimetype": "text/x-python",
   "name": "python",
   "nbconvert_exporter": "python",
   "pygments_lexer": "ipython3",
   "version": "3.9.13"
  },
  "vscode": {
   "interpreter": {
    "hash": "f08154012ddadd8e950e6e9e035c7a7b32c136e7647e9b7c77e02eb723a8bedb"
   }
  }
 },
 "nbformat": 4,
 "nbformat_minor": 5
}
