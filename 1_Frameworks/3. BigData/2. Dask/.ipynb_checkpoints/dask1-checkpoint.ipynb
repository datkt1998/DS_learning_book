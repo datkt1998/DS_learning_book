{
 "cells": [
  {
   "cell_type": "code",
   "execution_count": 1,
   "id": "e3a49164-63be-43db-8488-723c029794e9",
   "metadata": {},
   "outputs": [],
   "source": [
    "# code lập trình phân tán\n",
    "from dask.distributed import Client\n",
    "client = Client(n_workers=4)"
   ]
  },
  {
   "cell_type": "markdown",
   "id": "2e0bb27f-0b11-43c4-aa0b-c560e1bb7a55",
   "metadata": {},
   "source": [
    "# Delay"
   ]
  },
  {
   "cell_type": "markdown",
   "id": "edc94625-1488-4ea7-8a20-715d0431e06f",
   "metadata": {},
   "source": [
    "## delay decorator"
   ]
  },
  {
   "cell_type": "code",
   "execution_count": 2,
   "id": "961adf6e-222f-4513-a8d5-e94fe81c418b",
   "metadata": {},
   "outputs": [],
   "source": [
    "from time import sleep\n",
    "\n",
    "def inc(x):\n",
    "    sleep(1)\n",
    "    return x + 1\n",
    "\n",
    "def add(x, y):\n",
    "    sleep(1)\n",
    "    return x + y"
   ]
  },
  {
   "cell_type": "code",
   "execution_count": 3,
   "id": "378af535-2c77-47d6-9a57-e48d5c733f1f",
   "metadata": {},
   "outputs": [
    {
     "name": "stdout",
     "output_type": "stream",
     "text": [
      "Wall time: 3.03 s\n"
     ]
    }
   ],
   "source": [
    "%%time\n",
    "# This takes three seconds to run because we call each\n",
    "# function sequentially, one after the other\n",
    "\n",
    "x = inc(1)\n",
    "y = inc(2)\n",
    "z = add(x, y)"
   ]
  },
  {
   "cell_type": "code",
   "execution_count": 4,
   "id": "f17872a1-93da-499a-85e2-37b2becbe4de",
   "metadata": {},
   "outputs": [],
   "source": [
    "# sử dụng delay"
   ]
  },
  {
   "cell_type": "code",
   "execution_count": 5,
   "id": "767944c8-b82a-4e11-8547-e9ade0d8145d",
   "metadata": {},
   "outputs": [],
   "source": [
    "from dask import delayed\n",
    "from time import sleep\n",
    "\n",
    "@delayed\n",
    "def inc(x):\n",
    "    sleep(1)\n",
    "    return x + 1\n",
    "@delayed\n",
    "def add(x, y):\n",
    "    sleep(1)\n",
    "    return x + y"
   ]
  },
  {
   "cell_type": "code",
   "execution_count": 6,
   "id": "c687b812-8775-4fbc-8e69-d08e3fa866a8",
   "metadata": {},
   "outputs": [
    {
     "name": "stdout",
     "output_type": "stream",
     "text": [
      "Wall time: 2.05 ms\n"
     ]
    }
   ],
   "source": [
    "%%time\n",
    "# This runs immediately, all it does is build a graph\n",
    "x = inc(1) \n",
    "y = inc(2) # sử dụng luồng tình toán song song với x\n",
    "z = add(x, y)"
   ]
  },
  {
   "attachments": {
    "4902fe31-e27b-470c-9dd2-4911f58b24dc.png": {
     "image/png": "[encoded data removed]"
    },
    "6e24087b-e8ab-4693-89f7-37237bdb5db4.png": {
     "image/png": "[encoded data removed]"
    }
   },
   "cell_type": "markdown",
   "id": "4ea336f4-e446-4fe8-8e9d-76f4cff36f77",
   "metadata": {},
   "source": [
    "![image.png](attachment:4902fe31-e27b-470c-9dd2-4911f58b24dc.png)![image.png](attachment:6e24087b-e8ab-4693-89f7-37237bdb5db4.png)"
   ]
  },
  {
   "cell_type": "code",
   "execution_count": 7,
   "id": "73a46f47-35a7-45f6-b8e6-a375e21aee41",
   "metadata": {},
   "outputs": [
    {
     "name": "stdout",
     "output_type": "stream",
     "text": [
      "Wall time: 2.33 s\n"
     ]
    },
    {
     "data": {
      "text/plain": [
       "5"
      ]
     },
     "execution_count": 7,
     "metadata": {},
     "output_type": "execute_result"
    }
   ],
   "source": [
    "%%time\n",
    "# This actually runs our computation using a local thread pool\n",
    "z.compute() "
   ]
  },
  {
   "cell_type": "code",
   "execution_count": 8,
   "id": "841bd9cc-4e3e-487d-8d05-5dabe6e6617a",
   "metadata": {},
   "outputs": [
    {
     "name": "stdout",
     "output_type": "stream",
     "text": [
      "Wall time: 1.07 s\n"
     ]
    },
    {
     "data": {
      "text/plain": [
       "44"
      ]
     },
     "execution_count": 8,
     "metadata": {},
     "output_type": "execute_result"
    }
   ],
   "source": [
    "%%time\n",
    "data = [1, 2, 3, 4, 5, 6, 7, 8]\n",
    "results = []\n",
    "for x in data:\n",
    "    y = inc(x)\n",
    "    results.append(y)\n",
    "\n",
    "total = sum(results)\n",
    "total.compute()"
   ]
  },
  {
   "cell_type": "code",
   "execution_count": 15,
   "id": "769fc04c-dfbb-44cd-bedb-a25c3e9765dc",
   "metadata": {},
   "outputs": [
    {
     "name": "stdout",
     "output_type": "stream",
     "text": [
      "90\n",
      "Wall time: 176 ms\n"
     ]
    }
   ],
   "source": [
    "%%time\n",
    "# Sequential code\n",
    "# for loop\n",
    "\n",
    "@delayed\n",
    "def inc(x):\n",
    "    sleep(0.1)\n",
    "    return x + 1\n",
    "\n",
    "@delayed\n",
    "def double(x):\n",
    "    sleep(0.1)\n",
    "    return 2 * x\n",
    "\n",
    "def is_even(x):\n",
    "    return not x % 2\n",
    "\n",
    "data = [1, 2, 3, 4, 5, 6, 7, 8, 9, 10]\n",
    "\n",
    "\n",
    "results = []\n",
    "for x in data:\n",
    "    if is_even(x):\n",
    "        y = double(x)\n",
    "    else:\n",
    "        y = inc(x)\n",
    "    results.append(y)\n",
    "\n",
    "total = sum(results)\n",
    "print(total.compute())"
   ]
  },
  {
   "cell_type": "markdown",
   "id": "8883360c-ae43-44eb-ae2e-e4812c4c3cd6",
   "metadata": {},
   "source": [
    "## delay in pandas"
   ]
  },
  {
   "cell_type": "code",
   "execution_count": 25,
   "id": "ef695b5d-357e-4d5b-9585-869a439a64c1",
   "metadata": {},
   "outputs": [],
   "source": [
    "import os\n",
    "import pandas as pd\n",
    "from glob import glob\n",
    "filenames = sorted(glob(os.path.join('datatest',  '*.bz2')))"
   ]
  },
  {
   "cell_type": "code",
   "execution_count": 27,
   "id": "99a8e794-1896-4b53-aff2-51389f326d57",
   "metadata": {},
   "outputs": [
    {
     "name": "stdout",
     "output_type": "stream",
     "text": [
      "Wall time: 36.5 s\n"
     ]
    }
   ],
   "source": [
    "%%time\n",
    "\n",
    "sums = []\n",
    "counts = []\n",
    "for fn in filenames:\n",
    "    # Read in file\n",
    "    df = pd.read_csv(fn)\n",
    "\n",
    "    # Groupby origin airport\n",
    "    by_origin = df.groupby('Origin')\n",
    "\n",
    "    # Sum of all departure delays by origin\n",
    "    total = by_origin.DepDelay.sum()\n",
    "\n",
    "    # Number of flights by origin\n",
    "    count = by_origin.DepDelay.count()\n",
    "\n",
    "    # Save the intermediates\n",
    "    sums.append(total)\n",
    "    counts.append(count)\n",
    "\n",
    "# Combine intermediates to get total mean-delay-per-origin\n",
    "total_delays = sum(sums)\n",
    "n_flights = sum(counts)\n",
    "mean = total_delays / n_flights"
   ]
  },
  {
   "cell_type": "code",
   "execution_count": 32,
   "id": "b09892dd-66e4-4b07-8f76-883bedd55f41",
   "metadata": {},
   "outputs": [
    {
     "name": "stdout",
     "output_type": "stream",
     "text": [
      "Wall time: 21.2 s\n"
     ]
    }
   ],
   "source": [
    "%%time\n",
    "from dask import compute\n",
    "# This is just one possible solution, there are\n",
    "# several ways to do this using `delayed`\n",
    "delayed_readcsv = delayed(pd.read_csv)\n",
    "sums = []\n",
    "counts = []\n",
    "for fn in filenames:\n",
    "    # Read in file\n",
    "    df = delayed_readcsv(fn)\n",
    "\n",
    "    # Groupby origin airport\n",
    "    by_origin = df.groupby('Origin')\n",
    "\n",
    "    # Sum of all departure delays by origin\n",
    "    total = by_origin.DepDelay.sum()\n",
    "\n",
    "    # Number of flights by origin\n",
    "    count = by_origin.DepDelay.count()\n",
    "\n",
    "    # Save the intermediates\n",
    "    sums.append(total)\n",
    "    counts.append(count)\n",
    "\n",
    "# Compute the intermediates\n",
    "sums, counts = compute(sums, counts)\n",
    "\n",
    "# Combine intermediates to get total mean-delay-per-origin\n",
    "total_delays = sum(sums)\n",
    "n_flights = sum(counts)\n",
    "mean = total_delays / n_flights"
   ]
  },
  {
   "cell_type": "code",
   "execution_count": 30,
   "id": "81e0a7dd-7f28-4054-aa34-651db666b097",
   "metadata": {},
   "outputs": [],
   "source": [
    "client.close()"
   ]
  },
  {
   "cell_type": "markdown",
   "id": "0c246057-424b-4cde-9476-e6432a0ca806",
   "metadata": {},
   "source": [
    "# bag\n",
    "- Parallel Lists for semi-structured data\n",
    "- Tương tự list nhưng ko có cấu trúc, index"
   ]
  },
  {
   "cell_type": "code",
   "execution_count": 33,
   "id": "1ebc31c2-b10b-4e66-beb5-39389c9d072e",
   "metadata": {},
   "outputs": [],
   "source": [
    "from dask.distributed import Client\n",
    "\n",
    "client = Client(n_workers=4)"
   ]
  },
  {
   "cell_type": "code",
   "execution_count": 42,
   "id": "8f687b30-f8c1-41a8-a4a0-6ef1bd71a6ac",
   "metadata": {},
   "outputs": [
    {
     "data": {
      "text/plain": [
       "(1, 2, 3)"
      ]
     },
     "execution_count": 42,
     "metadata": {},
     "output_type": "execute_result"
    }
   ],
   "source": [
    "# each element is an integer\n",
    "import dask.bag as db\n",
    "b = db.from_sequence([1, 2, 3, 4, 5, 6, 7, 8, 9, 10], npartitions=2)\n",
    "b.take(3)"
   ]
  },
  {
   "cell_type": "code",
   "execution_count": 43,
   "id": "4059f2f1-7ad3-4968-9c96-77f8b8e79dea",
   "metadata": {},
   "outputs": [
    {
     "data": {
      "text/plain": [
       "[4, 16, 36, 64, 100]"
      ]
     },
     "execution_count": 43,
     "metadata": {},
     "output_type": "execute_result"
    }
   ],
   "source": [
    "# sửu dụng với cả các function của list : pyspark, including map, filter, groupby, etc..\n",
    "def is_even(n):\n",
    "    return n % 2 == 0\n",
    "\n",
    "b = db.from_sequence([1, 2, 3, 4, 5, 6, 7, 8, 9, 10])\n",
    "c = b.filter(is_even)\n",
    "d = c.map(lambda x: x ** 2)\n",
    "d.compute()"
   ]
  },
  {
   "cell_type": "code",
   "execution_count": 44,
   "id": "366b0752-6cc1-404d-a50f-f6a03df0c37c",
   "metadata": {},
   "outputs": [
    {
     "data": {
      "text/plain": [
       "[(0, [2, 4, 6, 8, 10]), (1, [1, 3, 5, 7, 9])]"
      ]
     },
     "execution_count": 44,
     "metadata": {},
     "output_type": "execute_result"
    }
   ],
   "source": [
    "b.groupby(lambda x: x % 2).compute()"
   ]
  },
  {
   "cell_type": "code",
   "execution_count": 38,
   "id": "bce40b96-3ce8-4a50-9442-c688113ba854",
   "metadata": {},
   "outputs": [
    {
     "data": {
      "text/plain": [
       "('Year,Month,DayofMonth,DayOfWeek,DepTime,CRSDepTime,ArrTime,CRSArrTime,UniqueCarrier,FlightNum,TailNum,ActualElapsedTime,CRSElapsedTime,AirTime,ArrDelay,DepDelay,Origin,Dest,Distance,TaxiIn,TaxiOut,Cancelled,CancellationCode,Diverted,CarrierDelay,WeatherDelay,NASDelay,SecurityDelay,LateAircraftDelay\\n',)"
      ]
     },
     "execution_count": 38,
     "metadata": {},
     "output_type": "execute_result"
    }
   ],
   "source": [
    "# each element is a text file, where each line is a JSON object\n",
    "# note that the compression is handled automatically\n",
    "import os\n",
    "b = db.read_text(os.path.join('datatest', '1989.csv.bz2'))\n",
    "b.take(1) # line 1 to 1"
   ]
  },
  {
   "cell_type": "code",
   "execution_count": 41,
   "id": "3d8bbc93-3c8b-4ed4-9e61-26b94b4273ce",
   "metadata": {},
   "outputs": [
    {
     "data": {
      "text/plain": [
       "('Year,Month,DayofMonth,DayOfWeek,DepTime,CRSDepTime,ArrTime,CRSArrTime,UniqueCarrier,FlightNum,TailNum,ActualElapsedTime,CRSElapsedTime,AirTime,ArrDelay,DepDelay,Origin,Dest,Distance,TaxiIn,TaxiOut,Cancelled,CancellationCode,Diverted,CarrierDelay,WeatherDelay,NASDelay,SecurityDelay,LateAircraftDelay\\n',\n",
       " '1989,1,23,1,1419,1230,1742,1552,UA,183,NA,323,322,NA,110,109,SFO,HNL,2398,NA,NA,0,NA,0,NA,NA,NA,NA,NA\\n')"
      ]
     },
     "execution_count": 41,
     "metadata": {},
     "output_type": "execute_result"
    }
   ],
   "source": [
    "b.take(2) # line 1 to 2"
   ]
  },
  {
   "cell_type": "code",
   "execution_count": 45,
   "id": "f4e83cbb-7381-48cf-80dd-2fb657b09bab",
   "metadata": {},
   "outputs": [],
   "source": [
    "client.close()"
   ]
  },
  {
   "cell_type": "markdown",
   "id": "6f2d55b2-4a8f-473c-9104-b8109d03d11c",
   "metadata": {},
   "source": [
    "# array"
   ]
  },
  {
   "cell_type": "code",
   "execution_count": 49,
   "id": "e3ee2ac1-d51a-4fa5-9067-22e20d6363ef",
   "metadata": {},
   "outputs": [
    {
     "name": "stderr",
     "output_type": "stream",
     "text": [
      "C:\\ProgramData\\Anaconda3\\lib\\site-packages\\distributed\\node.py:160: UserWarning: Port 8787 is already in use.\n",
      "Perhaps you already have a cluster running?\n",
      "Hosting the HTTP server on port 55680 instead\n",
      "  warnings.warn(\n"
     ]
    }
   ],
   "source": [
    "from dask.distributed import Client\n",
    "import numpy as np\n",
    "client = Client(n_workers=4)"
   ]
  },
  {
   "cell_type": "code",
   "execution_count": 52,
   "id": "74612f16-54d0-47e1-bbf6-a1be1cfa442b",
   "metadata": {},
   "outputs": [],
   "source": [
    "import dask.array as da"
   ]
  },
  {
   "cell_type": "code",
   "execution_count": 59,
   "id": "3ec17d74-53f5-48dc-9ee1-2ac79081b3cf",
   "metadata": {},
   "outputs": [
    {
     "name": "stdout",
     "output_type": "stream",
     "text": [
      "Wall time: 8.12 s\n"
     ]
    }
   ],
   "source": [
    "%%time\n",
    "x = np.random.normal(10, 0.1, size=(20000, 20000))\n"
   ]
  },
  {
   "cell_type": "code",
   "execution_count": 60,
   "id": "7f394477-e1a1-4aed-b926-4f176862f607",
   "metadata": {},
   "outputs": [
    {
     "name": "stdout",
     "output_type": "stream",
     "text": [
      "Wall time: 215 ms\n"
     ]
    }
   ],
   "source": [
    "%time y = x.mean(axis=0)[::]"
   ]
  },
  {
   "cell_type": "code",
   "execution_count": 61,
   "id": "98d50f5d-4b51-4d72-b66f-4f91528c234b",
   "metadata": {},
   "outputs": [
    {
     "name": "stdout",
     "output_type": "stream",
     "text": [
      "Wall time: 13.5 s\n"
     ]
    },
    {
     "data": {
      "text/plain": [
       "array([ 9.99959131,  9.99943521, 10.00064929, ...,  9.99989365,\n",
       "        9.99851456, 10.00007696])"
      ]
     },
     "execution_count": 61,
     "metadata": {},
     "output_type": "execute_result"
    }
   ],
   "source": [
    "%%time\n",
    "x = da.from_array(x, chunks=(1000, 1000))\n",
    "y = x.mean(axis=0)\n",
    "y.compute()"
   ]
  },
  {
   "cell_type": "code",
   "execution_count": 53,
   "id": "c6cbb646-27f5-4a1f-b7bd-eb0fcc8ed231",
   "metadata": {},
   "outputs": [
    {
     "name": "stdout",
     "output_type": "stream",
     "text": [
      "Wall time: 2.18 s\n"
     ]
    },
    {
     "data": {
      "text/plain": [
       "array([ 9.99944254, 10.0008407 ,  9.99881246,  9.99952143,  9.99914806,\n",
       "        9.99942084,  9.99949801,  9.99927512, 10.00008651, 10.0000341 ,\n",
       "       10.000254  ,  9.99948419,  9.99978536, 10.0001092 , 10.00073403,\n",
       "        9.9998261 , 10.00098631, 10.00126004,  9.99953592, 10.00013244,\n",
       "        9.99886833,  9.99969668, 10.00088781,  9.99989644, 10.00031895,\n",
       "        9.99950283, 10.00030859,  9.9999652 , 10.00056739, 10.00007537,\n",
       "        9.99994686,  9.99918894,  9.99953371,  9.99921571, 10.00042088,\n",
       "        9.99953278, 10.00033138, 10.00023003, 10.00089552, 10.00031118,\n",
       "       10.0004568 , 10.00001258,  9.99928031,  9.99991783, 10.00212057,\n",
       "        9.99914343,  9.99983201,  9.99974565,  9.99923624,  9.99991234,\n",
       "       10.00043334, 10.00046908,  9.99989144, 10.00025374, 10.00033674,\n",
       "        9.99922566,  9.99968955, 10.00131521, 10.00020715, 10.0013141 ,\n",
       "       10.00116011,  9.99874664,  9.99991329, 10.00056322,  9.9995604 ,\n",
       "        9.99983153,  9.99830021,  9.99945079, 10.00019627,  9.99969309,\n",
       "       10.00102806,  9.9999393 ,  9.99994017, 10.00084835, 10.00013113,\n",
       "       10.00009683, 10.00024172,  9.99915158,  9.99983185, 10.00116782,\n",
       "        9.99933446, 10.00026786,  9.99885916, 10.00013184, 10.00076104,\n",
       "       10.00006586,  9.99983188,  9.99965794, 10.00041883,  9.99994959,\n",
       "        9.99979742, 10.00047745, 10.00041195,  9.99986756,  9.99910624,\n",
       "       10.00026433,  9.99991093,  9.9990201 , 10.00012061,  9.99912927,\n",
       "       10.00081019,  9.99830513, 10.00031047, 10.00030106,  9.99921379,\n",
       "       10.00035693,  9.99928896, 10.0001538 , 10.00037543,  9.99885822,\n",
       "       10.00019276,  9.99952818,  9.99982988,  9.9986014 , 10.00112886,\n",
       "       10.00038121,  9.99928335, 10.00101759,  9.99948501,  9.99967468,\n",
       "       10.00041176,  9.99889688,  9.99904317,  9.99959123,  9.99937098,\n",
       "       10.00014582,  9.9992032 ,  9.99938947,  9.99943056,  9.99832903,\n",
       "        9.99831648, 10.00047992, 10.00084607,  9.99963969,  9.99895331,\n",
       "       10.00013608, 10.00060219, 10.00069072, 10.0008902 ,  9.99985719,\n",
       "        9.99998923, 10.00081857,  9.99877356, 10.00098627, 10.00032893,\n",
       "        9.99958559, 10.00015593,  9.99968529, 10.00026903,  9.99949354,\n",
       "       10.00108103,  9.99923154,  9.99949912, 10.00025015,  9.99979791,\n",
       "       10.00013147, 10.00101013, 10.00147808,  9.99876528,  9.99997225,\n",
       "        9.99911362, 10.00053778, 10.00007916, 10.00006691, 10.00215652,\n",
       "        9.99920765, 10.0009874 , 10.00044052, 10.00058808,  9.99954983,\n",
       "        9.99919827, 10.00009777, 10.00041951, 10.00120221,  9.99929548,\n",
       "        9.99796607,  9.99979102, 10.00068037, 10.00076972,  9.99893919,\n",
       "       10.00017432, 10.00043686, 10.00077986,  9.99989126, 10.00081616,\n",
       "       10.00020455,  9.9998666 ,  9.99971764,  9.99900314,  9.99958805,\n",
       "        9.99933828, 10.0002542 , 10.00062976,  9.99929815,  9.99969202,\n",
       "       10.00037706,  9.99865842,  9.99894778, 10.00005461, 10.00054509])"
      ]
     },
     "execution_count": 53,
     "metadata": {},
     "output_type": "execute_result"
    }
   ],
   "source": [
    "%%time\n",
    "x = da.random.normal(10, 0.1, size=(20000, 20000), chunks=(1000, 1000))  # chunk theo mảng, chia array thành nhiều mảng nhỏ\n",
    "y = x.mean(axis=0)[::100]\n",
    "y.compute()"
   ]
  },
  {
   "cell_type": "markdown",
   "id": "60253989-086d-49ec-8441-d451d083fbde",
   "metadata": {},
   "source": [
    "## save to result if it too large"
   ]
  },
  {
   "cell_type": "code",
   "execution_count": null,
   "id": "a844ba1f-cf2c-46ea-9341-a86bd3d2e325",
   "metadata": {},
   "outputs": [],
   "source": [
    "# save result lan luot\n",
    "# chú ý convert đúng định dạng trước khi save để đạt hiệu quả tối ưu\n",
    "da.to_hdf5('data/myfile.hdf5', '/output', my_dask_array)"
   ]
  },
  {
   "cell_type": "code",
   "execution_count": null,
   "id": "797fc916-6aa5-470d-ba6b-ff930292d6a5",
   "metadata": {},
   "outputs": [],
   "source": [
    "# save result theo huong trong mang\n",
    "import os\n",
    "from glob import glob\n",
    "\n",
    "import dask.array as da\n",
    "import h5py\n",
    "\n",
    "filenames = sorted(glob(os.path.join(\"data\", \"weather-big\", \"*.hdf5\")))\n",
    "dsets = [h5py.File(filename, mode=\"r\")[\"/t2m\"] for filename in filenames]\n",
    "\n",
    "arrays = [da.from_array(dset, chunks=(500, 500)) for dset in dsets]\n",
    "\n",
    "x = da.stack(arrays, axis=0)\n",
    "\n",
    "result = x[:, ::2, ::2]\n",
    "\n",
    "da.to_zarr(result, os.path.join(\"data\", \"myfile.zarr\"), overwrite=True)"
   ]
  },
  {
   "cell_type": "code",
   "execution_count": 62,
   "id": "9d7804e8-0ed7-45dc-9700-8616c0329422",
   "metadata": {},
   "outputs": [],
   "source": [
    "client.close()"
   ]
  },
  {
   "cell_type": "markdown",
   "id": "7bac5b1e-8781-4f7a-a90b-5aec211901bb",
   "metadata": {},
   "source": [
    "# dask Dataframe"
   ]
  },
  {
   "cell_type": "code",
   "execution_count": 1,
   "id": "94d1d22f-eb42-4b1b-a2e2-b65c64cbd502",
   "metadata": {},
   "outputs": [],
   "source": [
    "import os"
   ]
  },
  {
   "cell_type": "code",
   "execution_count": 2,
   "id": "4e21330f-beb0-4574-9279-e54c19a19f3f",
   "metadata": {},
   "outputs": [],
   "source": [
    "from dask.distributed import Client\n",
    "\n",
    "client = Client(n_workers=4)"
   ]
  },
  {
   "cell_type": "code",
   "execution_count": 3,
   "id": "4b6dbd2d-59e6-423c-8eed-623e45a11225",
   "metadata": {},
   "outputs": [],
   "source": [
    "import dask.dataframe as dd"
   ]
  },
  {
   "cell_type": "code",
   "execution_count": 4,
   "id": "643f2855-94f5-4bcc-8c14-16f1f542553e",
   "metadata": {},
   "outputs": [],
   "source": [
    "filename = os.path.join('datatest',  '1989.csv')"
   ]
  },
  {
   "cell_type": "code",
   "execution_count": null,
   "id": "f3d4c5fc-ce05-485e-8edc-38839cf3d429",
   "metadata": {},
   "outputs": [],
   "source": [
    "# một số hàm áp dụng cho một số định dạng cột, nếu dựa vào sample và gán sai định dạng cột thì khi chạy hàm sẽ bị lỗi\n",
    "# ép kiểu định dạng nếu biết trước để chạy được hàm phù hợp"
   ]
  },
  {
   "cell_type": "code",
   "execution_count": 5,
   "id": "ceb00cce-f8d8-49c9-81c4-97cd785a9569",
   "metadata": {},
   "outputs": [
    {
     "data": {
      "text/html": [
       "<div>\n",
       "<style scoped>\n",
       "    .dataframe tbody tr th:only-of-type {\n",
       "        vertical-align: middle;\n",
       "    }\n",
       "\n",
       "    .dataframe tbody tr th {\n",
       "        vertical-align: top;\n",
       "    }\n",
       "\n",
       "    .dataframe thead th {\n",
       "        text-align: right;\n",
       "    }\n",
       "</style>\n",
       "<table border=\"1\" class=\"dataframe\">\n",
       "  <thead>\n",
       "    <tr style=\"text-align: right;\">\n",
       "      <th></th>\n",
       "      <th>Date</th>\n",
       "      <th>DayOfWeek</th>\n",
       "      <th>DepTime</th>\n",
       "      <th>CRSDepTime</th>\n",
       "      <th>ArrTime</th>\n",
       "      <th>CRSArrTime</th>\n",
       "      <th>UniqueCarrier</th>\n",
       "      <th>FlightNum</th>\n",
       "      <th>TailNum</th>\n",
       "      <th>ActualElapsedTime</th>\n",
       "      <th>...</th>\n",
       "      <th>TaxiIn</th>\n",
       "      <th>TaxiOut</th>\n",
       "      <th>Cancelled</th>\n",
       "      <th>CancellationCode</th>\n",
       "      <th>Diverted</th>\n",
       "      <th>CarrierDelay</th>\n",
       "      <th>WeatherDelay</th>\n",
       "      <th>NASDelay</th>\n",
       "      <th>SecurityDelay</th>\n",
       "      <th>LateAircraftDelay</th>\n",
       "    </tr>\n",
       "  </thead>\n",
       "  <tbody>\n",
       "    <tr>\n",
       "      <th>0</th>\n",
       "      <td>1989-01-23</td>\n",
       "      <td>1</td>\n",
       "      <td>1419.0</td>\n",
       "      <td>1230</td>\n",
       "      <td>1742.0</td>\n",
       "      <td>1552</td>\n",
       "      <td>UA</td>\n",
       "      <td>183</td>\n",
       "      <td>NaN</td>\n",
       "      <td>323.0</td>\n",
       "      <td>...</td>\n",
       "      <td>NaN</td>\n",
       "      <td>NaN</td>\n",
       "      <td>False</td>\n",
       "      <td>NaN</td>\n",
       "      <td>0</td>\n",
       "      <td>NaN</td>\n",
       "      <td>NaN</td>\n",
       "      <td>NaN</td>\n",
       "      <td>NaN</td>\n",
       "      <td>NaN</td>\n",
       "    </tr>\n",
       "    <tr>\n",
       "      <th>1</th>\n",
       "      <td>1989-01-24</td>\n",
       "      <td>2</td>\n",
       "      <td>1255.0</td>\n",
       "      <td>1230</td>\n",
       "      <td>1612.0</td>\n",
       "      <td>1552</td>\n",
       "      <td>UA</td>\n",
       "      <td>183</td>\n",
       "      <td>NaN</td>\n",
       "      <td>317.0</td>\n",
       "      <td>...</td>\n",
       "      <td>NaN</td>\n",
       "      <td>NaN</td>\n",
       "      <td>False</td>\n",
       "      <td>NaN</td>\n",
       "      <td>0</td>\n",
       "      <td>NaN</td>\n",
       "      <td>NaN</td>\n",
       "      <td>NaN</td>\n",
       "      <td>NaN</td>\n",
       "      <td>NaN</td>\n",
       "    </tr>\n",
       "    <tr>\n",
       "      <th>2</th>\n",
       "      <td>1989-01-25</td>\n",
       "      <td>3</td>\n",
       "      <td>1230.0</td>\n",
       "      <td>1230</td>\n",
       "      <td>1533.0</td>\n",
       "      <td>1552</td>\n",
       "      <td>UA</td>\n",
       "      <td>183</td>\n",
       "      <td>NaN</td>\n",
       "      <td>303.0</td>\n",
       "      <td>...</td>\n",
       "      <td>NaN</td>\n",
       "      <td>NaN</td>\n",
       "      <td>False</td>\n",
       "      <td>NaN</td>\n",
       "      <td>0</td>\n",
       "      <td>NaN</td>\n",
       "      <td>NaN</td>\n",
       "      <td>NaN</td>\n",
       "      <td>NaN</td>\n",
       "      <td>NaN</td>\n",
       "    </tr>\n",
       "    <tr>\n",
       "      <th>3</th>\n",
       "      <td>1989-01-26</td>\n",
       "      <td>4</td>\n",
       "      <td>1230.0</td>\n",
       "      <td>1230</td>\n",
       "      <td>1523.0</td>\n",
       "      <td>1552</td>\n",
       "      <td>UA</td>\n",
       "      <td>183</td>\n",
       "      <td>NaN</td>\n",
       "      <td>293.0</td>\n",
       "      <td>...</td>\n",
       "      <td>NaN</td>\n",
       "      <td>NaN</td>\n",
       "      <td>False</td>\n",
       "      <td>NaN</td>\n",
       "      <td>0</td>\n",
       "      <td>NaN</td>\n",
       "      <td>NaN</td>\n",
       "      <td>NaN</td>\n",
       "      <td>NaN</td>\n",
       "      <td>NaN</td>\n",
       "    </tr>\n",
       "    <tr>\n",
       "      <th>4</th>\n",
       "      <td>1989-01-27</td>\n",
       "      <td>5</td>\n",
       "      <td>1232.0</td>\n",
       "      <td>1230</td>\n",
       "      <td>1513.0</td>\n",
       "      <td>1552</td>\n",
       "      <td>UA</td>\n",
       "      <td>183</td>\n",
       "      <td>NaN</td>\n",
       "      <td>281.0</td>\n",
       "      <td>...</td>\n",
       "      <td>NaN</td>\n",
       "      <td>NaN</td>\n",
       "      <td>False</td>\n",
       "      <td>NaN</td>\n",
       "      <td>0</td>\n",
       "      <td>NaN</td>\n",
       "      <td>NaN</td>\n",
       "      <td>NaN</td>\n",
       "      <td>NaN</td>\n",
       "      <td>NaN</td>\n",
       "    </tr>\n",
       "  </tbody>\n",
       "</table>\n",
       "<p>5 rows × 27 columns</p>\n",
       "</div>"
      ],
      "text/plain": [
       "        Date  DayOfWeek  DepTime  CRSDepTime  ArrTime  CRSArrTime  \\\n",
       "0 1989-01-23          1   1419.0        1230   1742.0        1552   \n",
       "1 1989-01-24          2   1255.0        1230   1612.0        1552   \n",
       "2 1989-01-25          3   1230.0        1230   1533.0        1552   \n",
       "3 1989-01-26          4   1230.0        1230   1523.0        1552   \n",
       "4 1989-01-27          5   1232.0        1230   1513.0        1552   \n",
       "\n",
       "  UniqueCarrier  FlightNum  TailNum  ActualElapsedTime  ...  TaxiIn  TaxiOut  \\\n",
       "0            UA        183      NaN              323.0  ...     NaN      NaN   \n",
       "1            UA        183      NaN              317.0  ...     NaN      NaN   \n",
       "2            UA        183      NaN              303.0  ...     NaN      NaN   \n",
       "3            UA        183      NaN              293.0  ...     NaN      NaN   \n",
       "4            UA        183      NaN              281.0  ...     NaN      NaN   \n",
       "\n",
       "   Cancelled  CancellationCode Diverted CarrierDelay  WeatherDelay  NASDelay  \\\n",
       "0      False               NaN        0          NaN           NaN       NaN   \n",
       "1      False               NaN        0          NaN           NaN       NaN   \n",
       "2      False               NaN        0          NaN           NaN       NaN   \n",
       "3      False               NaN        0          NaN           NaN       NaN   \n",
       "4      False               NaN        0          NaN           NaN       NaN   \n",
       "\n",
       "   SecurityDelay  LateAircraftDelay  \n",
       "0            NaN                NaN  \n",
       "1            NaN                NaN  \n",
       "2            NaN                NaN  \n",
       "3            NaN                NaN  \n",
       "4            NaN                NaN  \n",
       "\n",
       "[5 rows x 27 columns]"
      ]
     },
     "execution_count": 5,
     "metadata": {},
     "output_type": "execute_result"
    }
   ],
   "source": [
    "# sample\n",
    "dtype={'ActualElapsedTime': 'float64',\n",
    "       'ArrDelay': 'float64',\n",
    "       'ArrTime': 'float64',\n",
    "       'DepTime': 'float64',\n",
    "       'Distance': 'float64',\n",
    "      'DepDelay': 'float64',\n",
    "      'Cancelled':'bool'}\n",
    "df = dd.read_csv(filename,\n",
    "                 parse_dates={'Date': [0, 1, 2]},\n",
    "                 dtype=dtype)\n",
    "df.head()"
   ]
  },
  {
   "cell_type": "code",
   "execution_count": 6,
   "id": "5f1e4d1e-f4a9-4e76-a2bb-1952d9d7f0f2",
   "metadata": {},
   "outputs": [
    {
     "data": {
      "text/plain": [
       "5041200"
      ]
     },
     "execution_count": 6,
     "metadata": {},
     "output_type": "execute_result"
    }
   ],
   "source": [
    "# len\n",
    "len(df)"
   ]
  },
  {
   "cell_type": "code",
   "execution_count": 11,
   "id": "0f899677-bc61-4d2b-acd4-bdc102a00aa8",
   "metadata": {},
   "outputs": [
    {
     "data": {
      "text/html": [
       "<div><strong>Dask DataFrame Structure:</strong></div>\n",
       "<div>\n",
       "<style scoped>\n",
       "    .dataframe tbody tr th:only-of-type {\n",
       "        vertical-align: middle;\n",
       "    }\n",
       "\n",
       "    .dataframe tbody tr th {\n",
       "        vertical-align: top;\n",
       "    }\n",
       "\n",
       "    .dataframe thead th {\n",
       "        text-align: right;\n",
       "    }\n",
       "</style>\n",
       "<table border=\"1\" class=\"dataframe\">\n",
       "  <thead>\n",
       "    <tr style=\"text-align: right;\">\n",
       "      <th></th>\n",
       "      <th>Date</th>\n",
       "      <th>DayOfWeek</th>\n",
       "      <th>DepTime</th>\n",
       "      <th>CRSDepTime</th>\n",
       "      <th>ArrTime</th>\n",
       "      <th>CRSArrTime</th>\n",
       "      <th>UniqueCarrier</th>\n",
       "      <th>FlightNum</th>\n",
       "      <th>TailNum</th>\n",
       "      <th>ActualElapsedTime</th>\n",
       "      <th>CRSElapsedTime</th>\n",
       "      <th>AirTime</th>\n",
       "      <th>ArrDelay</th>\n",
       "      <th>DepDelay</th>\n",
       "      <th>Origin</th>\n",
       "      <th>Dest</th>\n",
       "      <th>Distance</th>\n",
       "      <th>TaxiIn</th>\n",
       "      <th>TaxiOut</th>\n",
       "      <th>Cancelled</th>\n",
       "      <th>CancellationCode</th>\n",
       "      <th>Diverted</th>\n",
       "      <th>CarrierDelay</th>\n",
       "      <th>WeatherDelay</th>\n",
       "      <th>NASDelay</th>\n",
       "      <th>SecurityDelay</th>\n",
       "      <th>LateAircraftDelay</th>\n",
       "    </tr>\n",
       "    <tr>\n",
       "      <th>npartitions=8</th>\n",
       "      <th></th>\n",
       "      <th></th>\n",
       "      <th></th>\n",
       "      <th></th>\n",
       "      <th></th>\n",
       "      <th></th>\n",
       "      <th></th>\n",
       "      <th></th>\n",
       "      <th></th>\n",
       "      <th></th>\n",
       "      <th></th>\n",
       "      <th></th>\n",
       "      <th></th>\n",
       "      <th></th>\n",
       "      <th></th>\n",
       "      <th></th>\n",
       "      <th></th>\n",
       "      <th></th>\n",
       "      <th></th>\n",
       "      <th></th>\n",
       "      <th></th>\n",
       "      <th></th>\n",
       "      <th></th>\n",
       "      <th></th>\n",
       "      <th></th>\n",
       "      <th></th>\n",
       "      <th></th>\n",
       "    </tr>\n",
       "  </thead>\n",
       "  <tbody>\n",
       "    <tr>\n",
       "      <th></th>\n",
       "      <td>datetime64[ns]</td>\n",
       "      <td>int64</td>\n",
       "      <td>int64</td>\n",
       "      <td>int64</td>\n",
       "      <td>int64</td>\n",
       "      <td>int64</td>\n",
       "      <td>object</td>\n",
       "      <td>int64</td>\n",
       "      <td>object</td>\n",
       "      <td>int64</td>\n",
       "      <td>float64</td>\n",
       "      <td>float64</td>\n",
       "      <td>int64</td>\n",
       "      <td>int64</td>\n",
       "      <td>object</td>\n",
       "      <td>object</td>\n",
       "      <td>int64</td>\n",
       "      <td>float64</td>\n",
       "      <td>float64</td>\n",
       "      <td>bool</td>\n",
       "      <td>float64</td>\n",
       "      <td>int64</td>\n",
       "      <td>float64</td>\n",
       "      <td>float64</td>\n",
       "      <td>float64</td>\n",
       "      <td>float64</td>\n",
       "      <td>float64</td>\n",
       "    </tr>\n",
       "    <tr>\n",
       "      <th></th>\n",
       "      <td>...</td>\n",
       "      <td>...</td>\n",
       "      <td>...</td>\n",
       "      <td>...</td>\n",
       "      <td>...</td>\n",
       "      <td>...</td>\n",
       "      <td>...</td>\n",
       "      <td>...</td>\n",
       "      <td>...</td>\n",
       "      <td>...</td>\n",
       "      <td>...</td>\n",
       "      <td>...</td>\n",
       "      <td>...</td>\n",
       "      <td>...</td>\n",
       "      <td>...</td>\n",
       "      <td>...</td>\n",
       "      <td>...</td>\n",
       "      <td>...</td>\n",
       "      <td>...</td>\n",
       "      <td>...</td>\n",
       "      <td>...</td>\n",
       "      <td>...</td>\n",
       "      <td>...</td>\n",
       "      <td>...</td>\n",
       "      <td>...</td>\n",
       "      <td>...</td>\n",
       "      <td>...</td>\n",
       "    </tr>\n",
       "    <tr>\n",
       "      <th>...</th>\n",
       "      <td>...</td>\n",
       "      <td>...</td>\n",
       "      <td>...</td>\n",
       "      <td>...</td>\n",
       "      <td>...</td>\n",
       "      <td>...</td>\n",
       "      <td>...</td>\n",
       "      <td>...</td>\n",
       "      <td>...</td>\n",
       "      <td>...</td>\n",
       "      <td>...</td>\n",
       "      <td>...</td>\n",
       "      <td>...</td>\n",
       "      <td>...</td>\n",
       "      <td>...</td>\n",
       "      <td>...</td>\n",
       "      <td>...</td>\n",
       "      <td>...</td>\n",
       "      <td>...</td>\n",
       "      <td>...</td>\n",
       "      <td>...</td>\n",
       "      <td>...</td>\n",
       "      <td>...</td>\n",
       "      <td>...</td>\n",
       "      <td>...</td>\n",
       "      <td>...</td>\n",
       "      <td>...</td>\n",
       "    </tr>\n",
       "    <tr>\n",
       "      <th></th>\n",
       "      <td>...</td>\n",
       "      <td>...</td>\n",
       "      <td>...</td>\n",
       "      <td>...</td>\n",
       "      <td>...</td>\n",
       "      <td>...</td>\n",
       "      <td>...</td>\n",
       "      <td>...</td>\n",
       "      <td>...</td>\n",
       "      <td>...</td>\n",
       "      <td>...</td>\n",
       "      <td>...</td>\n",
       "      <td>...</td>\n",
       "      <td>...</td>\n",
       "      <td>...</td>\n",
       "      <td>...</td>\n",
       "      <td>...</td>\n",
       "      <td>...</td>\n",
       "      <td>...</td>\n",
       "      <td>...</td>\n",
       "      <td>...</td>\n",
       "      <td>...</td>\n",
       "      <td>...</td>\n",
       "      <td>...</td>\n",
       "      <td>...</td>\n",
       "      <td>...</td>\n",
       "      <td>...</td>\n",
       "    </tr>\n",
       "    <tr>\n",
       "      <th></th>\n",
       "      <td>...</td>\n",
       "      <td>...</td>\n",
       "      <td>...</td>\n",
       "      <td>...</td>\n",
       "      <td>...</td>\n",
       "      <td>...</td>\n",
       "      <td>...</td>\n",
       "      <td>...</td>\n",
       "      <td>...</td>\n",
       "      <td>...</td>\n",
       "      <td>...</td>\n",
       "      <td>...</td>\n",
       "      <td>...</td>\n",
       "      <td>...</td>\n",
       "      <td>...</td>\n",
       "      <td>...</td>\n",
       "      <td>...</td>\n",
       "      <td>...</td>\n",
       "      <td>...</td>\n",
       "      <td>...</td>\n",
       "      <td>...</td>\n",
       "      <td>...</td>\n",
       "      <td>...</td>\n",
       "      <td>...</td>\n",
       "      <td>...</td>\n",
       "      <td>...</td>\n",
       "      <td>...</td>\n",
       "    </tr>\n",
       "  </tbody>\n",
       "</table>\n",
       "</div>\n",
       "<div>Dask Name: read-csv, 8 tasks</div>"
      ],
      "text/plain": [
       "Dask DataFrame Structure:\n",
       "                         Date DayOfWeek DepTime CRSDepTime ArrTime CRSArrTime UniqueCarrier FlightNum TailNum ActualElapsedTime CRSElapsedTime  AirTime ArrDelay DepDelay  Origin    Dest Distance   TaxiIn  TaxiOut Cancelled CancellationCode Diverted CarrierDelay WeatherDelay NASDelay SecurityDelay LateAircraftDelay\n",
       "npartitions=8                                                                                                                                                                                                                                                                                                              \n",
       "               datetime64[ns]     int64   int64      int64   int64      int64        object     int64  object             int64        float64  float64    int64    int64  object  object    int64  float64  float64      bool          float64    int64      float64      float64  float64       float64           float64\n",
       "                          ...       ...     ...        ...     ...        ...           ...       ...     ...               ...            ...      ...      ...      ...     ...     ...      ...      ...      ...       ...              ...      ...          ...          ...      ...           ...               ...\n",
       "...                       ...       ...     ...        ...     ...        ...           ...       ...     ...               ...            ...      ...      ...      ...     ...     ...      ...      ...      ...       ...              ...      ...          ...          ...      ...           ...               ...\n",
       "                          ...       ...     ...        ...     ...        ...           ...       ...     ...               ...            ...      ...      ...      ...     ...     ...      ...      ...      ...       ...              ...      ...          ...          ...      ...           ...               ...\n",
       "                          ...       ...     ...        ...     ...        ...           ...       ...     ...               ...            ...      ...      ...      ...     ...     ...      ...      ...      ...       ...              ...      ...          ...          ...      ...           ...               ...\n",
       "Dask Name: read-csv, 8 tasks"
      ]
     },
     "execution_count": 11,
     "metadata": {},
     "output_type": "execute_result"
    }
   ],
   "source": [
    "# dtypes\n",
    "df"
   ]
  },
  {
   "cell_type": "code",
   "execution_count": 20,
   "id": "89a70d48-5640-4ff9-9629-f46806197029",
   "metadata": {},
   "outputs": [
    {
     "name": "stdout",
     "output_type": "stream",
     "text": [
      "Wall time: 3.15 s\n"
     ]
    },
    {
     "data": {
      "text/plain": [
       "8.202822005482144"
      ]
     },
     "execution_count": 20,
     "metadata": {},
     "output_type": "execute_result"
    }
   ],
   "source": [
    "# math operator\n",
    "df = dd.read_csv(filename,\n",
    "                 parse_dates={'Date': [0, 1, 2]},\n",
    "                 dtype=dtype) # ép lại kiểu DepDelay từ int ---> float thì chạy ko bị lỗi, lấy dtype goi y trong phan báo lỗi\n",
    "%time df['DepDelay'].mean().compute()"
   ]
  },
  {
   "cell_type": "code",
   "execution_count": 7,
   "id": "235833a1-bfa8-49c1-8a0d-802093068ac4",
   "metadata": {},
   "outputs": [
    {
     "name": "stdout",
     "output_type": "stream",
     "text": [
      "Wall time: 3.34 s\n"
     ]
    },
    {
     "data": {
      "text/plain": [
       "8.202822005482144"
      ]
     },
     "execution_count": 7,
     "metadata": {},
     "output_type": "execute_result"
    }
   ],
   "source": [
    "# filter\n",
    "df_filter = df[~df['Cancelled']]\n",
    "%time df_filter['DepDelay'].mean().compute()"
   ]
  },
  {
   "cell_type": "code",
   "execution_count": 8,
   "id": "aedbdf7c-05b9-4b22-aab7-32a971380337",
   "metadata": {},
   "outputs": [
    {
     "name": "stdout",
     "output_type": "stream",
     "text": [
      "Wall time: 3.43 s\n"
     ]
    },
    {
     "data": {
      "text/plain": [
       "Origin\n",
       "ABE     4850\n",
       "ABQ    30736\n",
       "ACY      643\n",
       "AGS     3053\n",
       "ALB    13424\n",
       "       ...  \n",
       "GST       86\n",
       "ROP       39\n",
       "TVC      200\n",
       "EGE       11\n",
       "SUN       13\n",
       "Name: Origin, Length: 237, dtype: int64"
      ]
     },
     "execution_count": 8,
     "metadata": {},
     "output_type": "execute_result"
    }
   ],
   "source": [
    "#groupby\n",
    "%time df[~df.Cancelled].groupby('Origin').Origin.count().compute()"
   ]
  },
  {
   "cell_type": "code",
   "execution_count": 9,
   "id": "f2c76b80-1761-41c0-9110-14c0c9a37cf4",
   "metadata": {},
   "outputs": [
    {
     "name": "stdout",
     "output_type": "stream",
     "text": [
      "Wall time: 3.22 s\n"
     ]
    },
    {
     "data": {
      "text/plain": [
       "Origin\n",
       "ABE     5.825979\n",
       "ABQ     6.686003\n",
       "ACY     5.138414\n",
       "AGS     5.604651\n",
       "ALB     6.310861\n",
       "         ...    \n",
       "GST     9.697674\n",
       "ROP    20.794872\n",
       "TVC     6.970000\n",
       "EGE    32.363636\n",
       "SUN    19.000000\n",
       "Name: DepDelay, Length: 237, dtype: float64"
      ]
     },
     "execution_count": 9,
     "metadata": {},
     "output_type": "execute_result"
    }
   ],
   "source": [
    "%time df.groupby(\"Origin\").DepDelay.mean().compute()"
   ]
  },
  {
   "cell_type": "code",
   "execution_count": 13,
   "id": "c030d9b5-5aec-484f-a816-f9e42babe5e7",
   "metadata": {},
   "outputs": [
    {
     "name": "stdout",
     "output_type": "stream",
     "text": [
      "Wall time: 3.21 s\n"
     ]
    },
    {
     "data": {
      "text/plain": [
       "Series([], Name: UniqueCarrier, dtype: int64)"
      ]
     },
     "execution_count": 13,
     "metadata": {},
     "output_type": "execute_result"
    }
   ],
   "source": [
    "%%time\n",
    "df_filter = df[(~df['Cancelled']) & (df[\"ActualElapsedTime\"] > 300)]\n",
    "df_dropdup = df_filter.drop_duplicates(subset = [\"FlightNum\"])\n",
    "df_dropna = df_dropdup.dropna(how='any', subset=['TailNum'])\n",
    "value_count_sr = df_dropna['UniqueCarrier'].value_counts()\n",
    "value_count_sr.compute()"
   ]
  }
 ],
 "metadata": {
  "kernelspec": {
   "display_name": "Python 3 (ipykernel)",
   "language": "python",
   "name": "python3"
  },
  "language_info": {
   "codemirror_mode": {
    "name": "ipython",
    "version": 3
   },
   "file_extension": ".py",
   "mimetype": "text/x-python",
   "name": "python",
   "nbconvert_exporter": "python",
   "pygments_lexer": "ipython3",
   "version": "3.9.7"
  },
  "toc-autonumbering": true
 },
 "nbformat": 4,
 "nbformat_minor": 5
}
