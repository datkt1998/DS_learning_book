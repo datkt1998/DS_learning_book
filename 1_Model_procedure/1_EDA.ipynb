{
 "cells": [
  {
   "cell_type": "code",
   "execution_count": 1,
   "id": "046bcab5-da2f-4f50-b565-347d34d48708",
   "metadata": {},
   "outputs": [],
   "source": [
    "import os, math, subprocess\n",
    "import pandas as pd\n",
    "import numpy as np\n",
    "import matplotlib.pyplot as plt\n",
    "from tqdm import tqdm\n",
    "\n",
    "# some settings for displaying Pandas results\n",
    "# pd.set_option('display.width', 2000)\n",
    "# pd.set_option('display.max_rows', 500)\n",
    "# pd.set_option('display.max_columns', 500)\n",
    "# pd.set_option('display.precision', 4)\n",
    "# pd.set_option('display.max_colwidth', -1)"
   ]
  },
  {
   "cell_type": "markdown",
   "id": "773929f8-37a2-415c-b9ef-cb49ea18f610",
   "metadata": {},
   "source": [
    "# Statistic report table"
   ]
  },
  {
   "cell_type": "code",
   "execution_count": null,
   "id": "f2b4d02e-3e01-4bc8-b556-ad080b30dfa2",
   "metadata": {},
   "outputs": [],
   "source": [
    "def exploring_stats(pdf_input):\n",
    "    # check rows, cols\n",
    "    total_records, total_columns = pdf_input.shape[0], pdf_input.shape[1]\n",
    "    print(f\"Total {total_records} records, {total_columns} columns\")\n",
    "\n",
    "    # check dtypes\n",
    "    name = []\n",
    "    sub_type = []\n",
    "    for n, t in pdf_input.dtypes.iteritems():\n",
    "        name.append(n)\n",
    "        sub_type.append(t)\n",
    "\n",
    "    # check distinct\n",
    "    ls_ndist = []\n",
    "    for cname in pdf_input.columns:\n",
    "        ndist = pdf_input[cname].nunique()\n",
    "        pct_dist = ndist * 100.0 / total_records\n",
    "        ls_ndist.append(\"{} ({:0.2f}%)\".format(ndist, pct_dist))\n",
    "\n",
    "    # check missing\n",
    "    ls_nmiss = []\n",
    "    for cname in pdf_input.columns:\n",
    "        nmiss = pdf_input[cname].isnull().sum()\n",
    "        pct_miss = nmiss * 100.0 / total_records\n",
    "        ls_nmiss.append(\"{} ({:0.2f}%)\".format(nmiss, pct_miss))\n",
    "\n",
    "    # check zeros\n",
    "    ls_zeros = []\n",
    "    for cname in pdf_input.columns:\n",
    "        try:\n",
    "            nzeros = (pdf_input[cname] == 0).sum()\n",
    "            pct_zeros = nzeros * 100.0 / total_records\n",
    "            ls_zeros.append(\"{} ({:0.2f}%)\".format(nzeros, pct_zeros))\n",
    "        except:\n",
    "            ls_zeros.append(\"{} ({:0.2f}%)\".format(0, 0))\n",
    "            continue\n",
    "\n",
    "    # check negative\n",
    "    ls_neg = []\n",
    "    for cname in pdf_input.columns:\n",
    "        try:\n",
    "            nneg = (pdf_input[cname].astype(\"float\") < 0).sum()\n",
    "            pct_neg = nneg * 100.0 / total_records\n",
    "            ls_neg.append(\"{} ({:0.2f}%)\".format(nneg, pct_neg))\n",
    "        except:\n",
    "            ls_neg.append(\"{} ({:0.2f}%)\".format(0, 0))\n",
    "            continue\n",
    "\n",
    "    # prepare output\n",
    "    data = {\n",
    "        \"name\": name,\n",
    "        \"sub_type\": sub_type,\n",
    "        \"n_distinct\": ls_ndist,\n",
    "        \"n_miss\": ls_nmiss,\n",
    "        \"n_zeros\": ls_zeros,\n",
    "        \"n_negative\": ls_neg,\n",
    "    }\n",
    "\n",
    "    # check stats\n",
    "    pdf_stats = pdf_input.describe().transpose()\n",
    "    ls_stats = []\n",
    "    for stat in pdf_stats.columns:\n",
    "        data[stat] = []\n",
    "        for cname in pdf_input.columns:\n",
    "            try:\n",
    "                data[stat].append(pdf_stats.loc[cname, stat])\n",
    "            except:\n",
    "                data[stat].append(0.0)\n",
    "\n",
    "    # take samples\n",
    "    nsample = 10\n",
    "    pdf_sample = pdf_input.sample(frac=.5).head(nsample).transpose()\n",
    "    pdf_sample.columns = [\"sample_{}\".format(i) for i in range(nsample)]\n",
    "\n",
    "    # output\n",
    "    col_ordered = [\"sub_type\", \"n_distinct\", \"n_miss\", \"n_negative\", \"n_zeros\",\n",
    "                   \"25%\", \"50%\", \"75%\", \"count\", \"max\", \"mean\", \"min\", \"std\"] + list(pdf_sample.columns)\n",
    "    pdf_data = pd.DataFrame(data).set_index(\"name\")\n",
    "    pdf_data = pd.concat([pdf_data, pdf_sample], axis=1)\n",
    "    pdf_data = pdf_data[col_ordered]\n",
    "\n",
    "    return pdf_data"
   ]
  },
  {
   "cell_type": "code",
   "execution_count": 2,
   "id": "682e2649-c4c8-4739-9910-6d7b7329d2bb",
   "metadata": {},
   "outputs": [],
   "source": [
    "def export_rp_wb(li_dfs, li_names = None, output_dir = 'Outputs/data_statistic_report.xlsx'):\n",
    "    with pd.ExcelWriter(output_dir) as writer:\n",
    "        for df, name in zip(li_dfs, li_names):\n",
    "            print(name, end = \": \")\n",
    "            rp = exploring_stats(df)\n",
    "            rp.to_excel(writer, sheet_name=name, index=False)    \n",
    "\n",
    "def export_rp_wb(input_dfs_dir, output_dir = 'Outputs/data_statistic_report.xlsx'):\n",
    "    with pd.ExcelWriter(output_dir) as writer:\n",
    "        for path in input_dfs_dir:\n",
    "            name = os.path.splitext(os.path.basename(path))\n",
    "            df = pd.read_csv(path)\n",
    "            print(name, end = \": \")\n",
    "            rp = exploring_stats(df)\n",
    "            rp.to_excel(writer, sheet_name=name, index=False)  "
   ]
  },
  {
   "cell_type": "markdown",
   "id": "ddd7e49a-97b3-496c-b116-a68436e7f27e",
   "metadata": {},
   "source": [
    "# Dataprep report"
   ]
  },
  {
   "cell_type": "code",
   "execution_count": null,
   "id": "14742ba4-f98d-4fe9-a60b-44eb6f809d2e",
   "metadata": {},
   "outputs": [],
   "source": [
    "from dataprep.eda import create_report\n",
    "# create_report(df).show_browser()"
   ]
  }
 ],
 "metadata": {
  "kernelspec": {
   "display_name": "Python 3 (ipykernel)",
   "language": "python",
   "name": "python3"
  },
  "language_info": {
   "codemirror_mode": {
    "name": "ipython",
    "version": 3
   },
   "file_extension": ".py",
   "mimetype": "text/x-python",
   "name": "python",
   "nbconvert_exporter": "python",
   "pygments_lexer": "ipython3",
   "version": "3.10.6"
  },
  "toc-autonumbering": true
 },
 "nbformat": 4,
 "nbformat_minor": 5
}
