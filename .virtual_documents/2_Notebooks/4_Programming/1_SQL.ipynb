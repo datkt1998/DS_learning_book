#chạy code ko cần pandas để hiển thị
with cx_Oracle.connect('SYSTEM/21061998@localhost/db12c') as connection:
    cursor = connection.cursor()
    query=cursor.execute("select * from allstocktest") # viết SQL query code
    connection.commit() # chạy code query ở sql


class Connection(cx_Oracle.Connection):
    def cursor(self):
        cursor = super(Connection, self).cursor()
        return cursor

conn = Connection("SYSTEM/21061998@localhost/db12c")
sql="select * from allstocktest"
df = pd.read_sql_query(sql, conn)


import SQLcode as sql
import pandas as pd
import cx_Oracle
conn = cx_Oracle.Connection('SYSTEM','21061998','192.168.0.100/db12c')
curs = conn.cursor()


ddl2='SELECT STOCK,DAY_TRADING FROM ALLSTOCKTEST'
pd.read_sql_query(ddl2,conn).head()


ddl2='SELECT STOCK,CLOSE_P,volume_s,Close_p + 4,close_p*volume_s FROM ALLSTOCKTEST'
pd.read_sql_query(ddl2,conn).head()


ddl2='SELECT STOCK cp,CLOSE_P as price FROM ALLSTOCKTEST'
pd.read_sql_query(ddl2,conn).head()


ddl2='SELECT STOCK||DAY_TRADING as IDStock FROM ALLSTOCKTEST'
pd.read_sql_query(ddl2,conn).head()


# loại bỏ trùng lặp
ddl2='SELECT distinct STOCK FROM ALLSTOCKTEST'
pd.read_sql_query(ddl2,conn)


ddl2='SELECT STOCK, CLOSE_P FROM ALLSTOCKTEST WHERE Close_p BETWEEN 17 AND 27'
pd.read_sql_query(ddl2,conn)


# '%' là 0 hoặc nhiều characters
ddl2='SELECT STOCK, CLOSE_P FROM ALLSTOCKTEST WHERE STOCK like \'AC%\''
pd.read_sql_query(ddl2,conn)


# gạch dưới '_' là 1 character
ddl2='SELECT STOCK, CLOSE_P FROM ALLSTOCKTEST WHERE STOCK like \'A_C%\''
pd.read_sql_query(ddl2,conn)


ddl2='SELECT STOCK, CLOSE_P FROM ALLSTOCKTEST WHERE DAY_TRADING=\'18-JAN-20\''
pd.read_sql_query(ddl2,conn)


ddl2='SELECT STOCK, CLOSE_P FROM ALLSTOCKTEST WHERE STOCK in (\'ACB\',\'AVM\')'
pd.read_sql_query(ddl2,conn)


ddl2='SELECT STOCK, CLOSE_P FROM ALLSTOCKTEST WHERE STOCK in (\'ACB\',\'AVM\') AND close_p between 15 and 23'
pd.read_sql_query(ddl2,conn)


ddl2='SELECT STOCK, CLOSE_P FROM ALLSTOCKTEST ORDER BY STOCK DESC, CLOSE_P'
pd.read_sql_query(ddl2,conn)


# sử dụng column alias
# 1 tương ứng với column 1 : là column STOCK
ddl2='SELECT STOCK, CLOSE_P GIA,Volume_s FROM ALLSTOCKTEST ORDER BY 3 DESC, GIA'
pd.read_sql_query(ddl2,conn)


ddl2="""SELECT STOCK,AVG(CLOSE_P)
FROM ALLSTOCKTEST
GROUP BY STOCK
"""
pd.read_sql_query(ddl2,conn)


#group_by nhỏ hơn
ddl2="""SELECT STOCK,AVG(CLOSE_P)
FROM ALLSTOCKTEST
GROUP BY STOCK,DAY_TRADING
ORDER BY STOCK
"""
pd.read_sql_query(ddl2,conn)


ddl2="""SELECT STOCK,MAX(CLOSE_P)
FROM ALLSTOCKTEST
GROUP BY STOCK
HAVING MAX(CLOSE_P)>20
"""
pd.read_sql_query(ddl2,conn)


ddl2="""
SELECT STOCK,MAX(CLOSE_P),MAX(VOLUME_S)
FROM ALLSTOCKTEST
WHERE STOCK NOT LIKE 'AV_'
GROUP BY STOCK
HAVING MAX(CLOSE_P)>20
ORDER BY MAX(CLOSE_P)
"""
pd.read_sql_query(ddl2,conn)


code='''
SELECT instr('dssais ka m ais','is') 
test
FROM dual
'''
pd.read_sql_query(code,conn)


code='''
SELECT substr(\'dssaims ka m ais\',-3,3) 
test
FROM dual
'''
pd.read_sql_query(code,conn)


code='''
SELECT concat('AB','t') 
test
FROM dual
'''
pd.read_sql_query(code,conn)


code='''
SELECT ROUND(123.456,2) test1, ROUND(123.456,-1) test2, TRUNC(123.456,-2) test3, MOD(123456,1000) test4
FROM dual
'''
pd.read_sql_query(code,conn)


# trả về thời điểm hiện tại
code='''
SELECT SYSDATE,SYSDATE + 1, SYSDATE + 1/24
FROM dual
'''
pd.read_sql_query(code,conn)


code='''
SELECT SYSDATE,MONTHS_BETWEEN(SYSDATE,'01-JAN-20'), ADD_MONTHS('31-JAN-96',1), NEXT_DAY(SYSDATE,'FRIDAY'), LAST_DAY(SYSDATE)
FROM dual
'''
pd.read_sql_query(code,conn)


#ngày từ 1-15 làm tròn xuống, tháng từ 1-6 làm tròn xuống
code='''
SELECT SYSDATE,ROUND(SYSDATE,'month'), ROUND(SYSDATE,'year'), TRUNC(SYSDATE,'month'), TRUNC(SYSDATE,'year')
FROM dual
'''
pd.read_sql_query(code,conn)


code='''
SELECT AVG(CLOSE_P)
FROM ALLSTOCKTEST
'''
pd.read_sql_query(code,conn)
